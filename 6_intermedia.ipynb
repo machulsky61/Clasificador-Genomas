{
  "cells": [
    {
      "cell_type": "code",
      "execution_count": 1,
      "metadata": {
        "id": "UYoanQYD3110"
      },
      "outputs": [],
      "source": [
        "import numpy as np\n",
        "import seaborn as sns\n",
        "import pandas as pd\n",
        "import matplotlib.pyplot as plt"
      ]
    },
    {
      "cell_type": "code",
      "execution_count": 2,
      "metadata": {
        "id": "8vLARohJ3113"
      },
      "outputs": [],
      "source": [
        "#df = pd.read_csv('data/data.csv')\n",
        "df = pd.read_csv('data.csv')"
      ]
    },
    {
      "cell_type": "markdown",
      "metadata": {
        "id": "umloQw_fYX1J"
      },
      "source": [
        "# Ejercicio 1"
      ]
    },
    {
      "cell_type": "code",
      "execution_count": 3,
      "metadata": {
        "colab": {
          "base_uri": "https://localhost:8080/"
        },
        "id": "ifTD-wOC3113",
        "outputId": "960c02c4-89dc-4ef1-993a-2b8f076ff590"
      },
      "outputs": [
        {
          "output_type": "execute_result",
          "data": {
            "text/plain": [
              "target\n",
              "0    343\n",
              "1    157\n",
              "Name: count, dtype: int64"
            ]
          },
          "metadata": {},
          "execution_count": 3
        }
      ],
      "source": [
        "df['target'].value_counts()"
      ]
    },
    {
      "cell_type": "markdown",
      "metadata": {
        "id": "QcnXhR5U3114"
      },
      "source": [
        "Notamos que estamos ante un dataset desbalanceado, lo tendremos en cuenta para separar los datos de modo estratificado"
      ]
    },
    {
      "cell_type": "code",
      "execution_count": 4,
      "metadata": {
        "id": "U1ZJrEf53115"
      },
      "outputs": [],
      "source": [
        "def train_test_split(df,train_size=0.8):\n",
        "    df = df.sample(frac=1, random_state=42).reset_index(drop=True)\n",
        "    n = df.shape[0]\n",
        "    cantNeg, cantPos = df['target'].value_counts()\n",
        "    proporcion = cantPos / n\n",
        "\n",
        "    cant_en_train = int(n*train_size)\n",
        "    cant_en_validacion = n - cant_en_train\n",
        "\n",
        "    res = []\n",
        "    cant_positivas = int(proporcion * cant_en_validacion)\n",
        "    cant_negativas = cant_en_validacion - cant_positivas\n",
        "\n",
        "    contador_positivos, contador_negativos = 0, 0\n",
        "    for index, value in enumerate(df['target']):\n",
        "        if value == 0:\n",
        "            contador_negativos += 1\n",
        "            res.append(index)\n",
        "\n",
        "        if contador_negativos == cant_negativas:\n",
        "            break\n",
        "    for index, value in enumerate(df['target']):\n",
        "\n",
        "        if value == 1:\n",
        "            contador_positivos += 1\n",
        "            res.append(index)\n",
        "\n",
        "        if contador_positivos == cant_positivas:\n",
        "            break\n",
        "\n",
        "    df_dev = df.loc[~df.index.isin(res)].reset_index(drop=True)\n",
        "    df_eval = df.loc[res].reset_index(drop=True)\n",
        "    return df_dev,df_eval"
      ]
    },
    {
      "cell_type": "code",
      "execution_count": 5,
      "metadata": {
        "id": "yqtG83Nm3116"
      },
      "outputs": [],
      "source": [
        "df_dev , df_eval =  train_test_split(df,0.9)\n"
      ]
    },
    {
      "cell_type": "markdown",
      "metadata": {
        "id": "2i7y0nMQ3116"
      },
      "source": [
        "# Ejercicio 2"
      ]
    },
    {
      "cell_type": "code",
      "execution_count": 6,
      "metadata": {
        "id": "IkwadpMP3116"
      },
      "outputs": [],
      "source": [
        "from sklearn.tree import DecisionTreeClassifier\n",
        "from sklearn.model_selection import KFold\n",
        "from sklearn.model_selection import cross_val_score\n",
        "from sklearn.metrics import classification_report\n",
        "from sklearn.model_selection import StratifiedKFold\n",
        "from sklearn.model_selection import cross_validate\n",
        "from sklearn.metrics import accuracy_score, roc_auc_score , average_precision_score\n",
        "from sklearn.model_selection import cross_val_predict"
      ]
    },
    {
      "cell_type": "code",
      "execution_count": 7,
      "metadata": {
        "id": "SOFAvQ913117"
      },
      "outputs": [],
      "source": [
        "X_train = df_dev.drop(columns=['target']).values\n",
        "\n",
        "y_train = df_dev['target'].values\n",
        "\n",
        "X_eval   = df_eval.drop(columns=['target']).values\n",
        "\n",
        "y_eval   =  df_eval['target'].values"
      ]
    },
    {
      "cell_type": "markdown",
      "metadata": {
        "id": "ra6DJoh7YX1N"
      },
      "source": [
        "## 2.1\n"
      ]
    },
    {
      "cell_type": "code",
      "execution_count": 8,
      "metadata": {
        "colab": {
          "base_uri": "https://localhost:8080/",
          "height": 75
        },
        "id": "JO0suEey3117",
        "outputId": "e4b38f6a-10f5-49fa-aa5f-c40efb9a468e"
      },
      "outputs": [
        {
          "output_type": "execute_result",
          "data": {
            "text/plain": [
              "DecisionTreeClassifier(max_depth=3, random_state=51)"
            ],
            "text/html": [
              "<style>#sk-container-id-1 {color: black;background-color: white;}#sk-container-id-1 pre{padding: 0;}#sk-container-id-1 div.sk-toggleable {background-color: white;}#sk-container-id-1 label.sk-toggleable__label {cursor: pointer;display: block;width: 100%;margin-bottom: 0;padding: 0.3em;box-sizing: border-box;text-align: center;}#sk-container-id-1 label.sk-toggleable__label-arrow:before {content: \"▸\";float: left;margin-right: 0.25em;color: #696969;}#sk-container-id-1 label.sk-toggleable__label-arrow:hover:before {color: black;}#sk-container-id-1 div.sk-estimator:hover label.sk-toggleable__label-arrow:before {color: black;}#sk-container-id-1 div.sk-toggleable__content {max-height: 0;max-width: 0;overflow: hidden;text-align: left;background-color: #f0f8ff;}#sk-container-id-1 div.sk-toggleable__content pre {margin: 0.2em;color: black;border-radius: 0.25em;background-color: #f0f8ff;}#sk-container-id-1 input.sk-toggleable__control:checked~div.sk-toggleable__content {max-height: 200px;max-width: 100%;overflow: auto;}#sk-container-id-1 input.sk-toggleable__control:checked~label.sk-toggleable__label-arrow:before {content: \"▾\";}#sk-container-id-1 div.sk-estimator input.sk-toggleable__control:checked~label.sk-toggleable__label {background-color: #d4ebff;}#sk-container-id-1 div.sk-label input.sk-toggleable__control:checked~label.sk-toggleable__label {background-color: #d4ebff;}#sk-container-id-1 input.sk-hidden--visually {border: 0;clip: rect(1px 1px 1px 1px);clip: rect(1px, 1px, 1px, 1px);height: 1px;margin: -1px;overflow: hidden;padding: 0;position: absolute;width: 1px;}#sk-container-id-1 div.sk-estimator {font-family: monospace;background-color: #f0f8ff;border: 1px dotted black;border-radius: 0.25em;box-sizing: border-box;margin-bottom: 0.5em;}#sk-container-id-1 div.sk-estimator:hover {background-color: #d4ebff;}#sk-container-id-1 div.sk-parallel-item::after {content: \"\";width: 100%;border-bottom: 1px solid gray;flex-grow: 1;}#sk-container-id-1 div.sk-label:hover label.sk-toggleable__label {background-color: #d4ebff;}#sk-container-id-1 div.sk-serial::before {content: \"\";position: absolute;border-left: 1px solid gray;box-sizing: border-box;top: 0;bottom: 0;left: 50%;z-index: 0;}#sk-container-id-1 div.sk-serial {display: flex;flex-direction: column;align-items: center;background-color: white;padding-right: 0.2em;padding-left: 0.2em;position: relative;}#sk-container-id-1 div.sk-item {position: relative;z-index: 1;}#sk-container-id-1 div.sk-parallel {display: flex;align-items: stretch;justify-content: center;background-color: white;position: relative;}#sk-container-id-1 div.sk-item::before, #sk-container-id-1 div.sk-parallel-item::before {content: \"\";position: absolute;border-left: 1px solid gray;box-sizing: border-box;top: 0;bottom: 0;left: 50%;z-index: -1;}#sk-container-id-1 div.sk-parallel-item {display: flex;flex-direction: column;z-index: 1;position: relative;background-color: white;}#sk-container-id-1 div.sk-parallel-item:first-child::after {align-self: flex-end;width: 50%;}#sk-container-id-1 div.sk-parallel-item:last-child::after {align-self: flex-start;width: 50%;}#sk-container-id-1 div.sk-parallel-item:only-child::after {width: 0;}#sk-container-id-1 div.sk-dashed-wrapped {border: 1px dashed gray;margin: 0 0.4em 0.5em 0.4em;box-sizing: border-box;padding-bottom: 0.4em;background-color: white;}#sk-container-id-1 div.sk-label label {font-family: monospace;font-weight: bold;display: inline-block;line-height: 1.2em;}#sk-container-id-1 div.sk-label-container {text-align: center;}#sk-container-id-1 div.sk-container {/* jupyter's `normalize.less` sets `[hidden] { display: none; }` but bootstrap.min.css set `[hidden] { display: none !important; }` so we also need the `!important` here to be able to override the default hidden behavior on the sphinx rendered scikit-learn.org. See: https://github.com/scikit-learn/scikit-learn/issues/21755 */display: inline-block !important;position: relative;}#sk-container-id-1 div.sk-text-repr-fallback {display: none;}</style><div id=\"sk-container-id-1\" class=\"sk-top-container\"><div class=\"sk-text-repr-fallback\"><pre>DecisionTreeClassifier(max_depth=3, random_state=51)</pre><b>In a Jupyter environment, please rerun this cell to show the HTML representation or trust the notebook. <br />On GitHub, the HTML representation is unable to render, please try loading this page with nbviewer.org.</b></div><div class=\"sk-container\" hidden><div class=\"sk-item\"><div class=\"sk-estimator sk-toggleable\"><input class=\"sk-toggleable__control sk-hidden--visually\" id=\"sk-estimator-id-1\" type=\"checkbox\" checked><label for=\"sk-estimator-id-1\" class=\"sk-toggleable__label sk-toggleable__label-arrow\">DecisionTreeClassifier</label><div class=\"sk-toggleable__content\"><pre>DecisionTreeClassifier(max_depth=3, random_state=51)</pre></div></div></div></div></div>"
            ]
          },
          "metadata": {},
          "execution_count": 8
        }
      ],
      "source": [
        "tree_clf = DecisionTreeClassifier(max_depth=3, random_state=51)\n",
        "tree_clf.fit(X_train, y_train)"
      ]
    },
    {
      "cell_type": "markdown",
      "metadata": {
        "id": "uTVKFdeKYX1N"
      },
      "source": [
        "## 2.2\n"
      ]
    },
    {
      "cell_type": "code",
      "execution_count": 9,
      "metadata": {
        "colab": {
          "base_uri": "https://localhost:8080/",
          "height": 289
        },
        "id": "3bdVIWb6YX1O",
        "outputId": "9aeafc56-e95d-41b7-e9ec-f53b326f81f6"
      },
      "outputs": [
        {
          "output_type": "execute_result",
          "data": {
            "text/plain": [
              "          test_accuracy  train_accuracy  test_roc_auc  train_roc_auc  \\\n",
              "1              0.655556        0.813889      0.612210       0.774068   \n",
              "2              0.677778        0.811111      0.678632       0.832987   \n",
              "3              0.711111        0.811111      0.618952       0.799618   \n",
              "4              0.700000        0.805556      0.637961       0.847793   \n",
              "5              0.711111        0.808333      0.674539       0.820193   \n",
              "Promedio       0.691111        0.810000      0.644459       0.814932   \n",
              "Global         0.691111             NaN      0.594064            NaN   \n",
              "\n",
              "          test_average_precision  train_average_precision  \n",
              "1                       0.378969                 0.665387  \n",
              "2                       0.459322                 0.663596  \n",
              "3                       0.415606                 0.659502  \n",
              "4                       0.436165                 0.670116  \n",
              "5                       0.509735                 0.711133  \n",
              "Promedio                0.439959                 0.673947  \n",
              "Global                  0.382060                      NaN  "
            ],
            "text/html": [
              "\n",
              "  <div id=\"df-6bc03d02-c3c7-457b-bc63-87816cb9e648\" class=\"colab-df-container\">\n",
              "    <div>\n",
              "<style scoped>\n",
              "    .dataframe tbody tr th:only-of-type {\n",
              "        vertical-align: middle;\n",
              "    }\n",
              "\n",
              "    .dataframe tbody tr th {\n",
              "        vertical-align: top;\n",
              "    }\n",
              "\n",
              "    .dataframe thead th {\n",
              "        text-align: right;\n",
              "    }\n",
              "</style>\n",
              "<table border=\"1\" class=\"dataframe\">\n",
              "  <thead>\n",
              "    <tr style=\"text-align: right;\">\n",
              "      <th></th>\n",
              "      <th>test_accuracy</th>\n",
              "      <th>train_accuracy</th>\n",
              "      <th>test_roc_auc</th>\n",
              "      <th>train_roc_auc</th>\n",
              "      <th>test_average_precision</th>\n",
              "      <th>train_average_precision</th>\n",
              "    </tr>\n",
              "  </thead>\n",
              "  <tbody>\n",
              "    <tr>\n",
              "      <th>1</th>\n",
              "      <td>0.655556</td>\n",
              "      <td>0.813889</td>\n",
              "      <td>0.612210</td>\n",
              "      <td>0.774068</td>\n",
              "      <td>0.378969</td>\n",
              "      <td>0.665387</td>\n",
              "    </tr>\n",
              "    <tr>\n",
              "      <th>2</th>\n",
              "      <td>0.677778</td>\n",
              "      <td>0.811111</td>\n",
              "      <td>0.678632</td>\n",
              "      <td>0.832987</td>\n",
              "      <td>0.459322</td>\n",
              "      <td>0.663596</td>\n",
              "    </tr>\n",
              "    <tr>\n",
              "      <th>3</th>\n",
              "      <td>0.711111</td>\n",
              "      <td>0.811111</td>\n",
              "      <td>0.618952</td>\n",
              "      <td>0.799618</td>\n",
              "      <td>0.415606</td>\n",
              "      <td>0.659502</td>\n",
              "    </tr>\n",
              "    <tr>\n",
              "      <th>4</th>\n",
              "      <td>0.700000</td>\n",
              "      <td>0.805556</td>\n",
              "      <td>0.637961</td>\n",
              "      <td>0.847793</td>\n",
              "      <td>0.436165</td>\n",
              "      <td>0.670116</td>\n",
              "    </tr>\n",
              "    <tr>\n",
              "      <th>5</th>\n",
              "      <td>0.711111</td>\n",
              "      <td>0.808333</td>\n",
              "      <td>0.674539</td>\n",
              "      <td>0.820193</td>\n",
              "      <td>0.509735</td>\n",
              "      <td>0.711133</td>\n",
              "    </tr>\n",
              "    <tr>\n",
              "      <th>Promedio</th>\n",
              "      <td>0.691111</td>\n",
              "      <td>0.810000</td>\n",
              "      <td>0.644459</td>\n",
              "      <td>0.814932</td>\n",
              "      <td>0.439959</td>\n",
              "      <td>0.673947</td>\n",
              "    </tr>\n",
              "    <tr>\n",
              "      <th>Global</th>\n",
              "      <td>0.691111</td>\n",
              "      <td>NaN</td>\n",
              "      <td>0.594064</td>\n",
              "      <td>NaN</td>\n",
              "      <td>0.382060</td>\n",
              "      <td>NaN</td>\n",
              "    </tr>\n",
              "  </tbody>\n",
              "</table>\n",
              "</div>\n",
              "    <div class=\"colab-df-buttons\">\n",
              "\n",
              "  <div class=\"colab-df-container\">\n",
              "    <button class=\"colab-df-convert\" onclick=\"convertToInteractive('df-6bc03d02-c3c7-457b-bc63-87816cb9e648')\"\n",
              "            title=\"Convert this dataframe to an interactive table.\"\n",
              "            style=\"display:none;\">\n",
              "\n",
              "  <svg xmlns=\"http://www.w3.org/2000/svg\" height=\"24px\" viewBox=\"0 -960 960 960\">\n",
              "    <path d=\"M120-120v-720h720v720H120Zm60-500h600v-160H180v160Zm220 220h160v-160H400v160Zm0 220h160v-160H400v160ZM180-400h160v-160H180v160Zm440 0h160v-160H620v160ZM180-180h160v-160H180v160Zm440 0h160v-160H620v160Z\"/>\n",
              "  </svg>\n",
              "    </button>\n",
              "\n",
              "  <style>\n",
              "    .colab-df-container {\n",
              "      display:flex;\n",
              "      gap: 12px;\n",
              "    }\n",
              "\n",
              "    .colab-df-convert {\n",
              "      background-color: #E8F0FE;\n",
              "      border: none;\n",
              "      border-radius: 50%;\n",
              "      cursor: pointer;\n",
              "      display: none;\n",
              "      fill: #1967D2;\n",
              "      height: 32px;\n",
              "      padding: 0 0 0 0;\n",
              "      width: 32px;\n",
              "    }\n",
              "\n",
              "    .colab-df-convert:hover {\n",
              "      background-color: #E2EBFA;\n",
              "      box-shadow: 0px 1px 2px rgba(60, 64, 67, 0.3), 0px 1px 3px 1px rgba(60, 64, 67, 0.15);\n",
              "      fill: #174EA6;\n",
              "    }\n",
              "\n",
              "    .colab-df-buttons div {\n",
              "      margin-bottom: 4px;\n",
              "    }\n",
              "\n",
              "    [theme=dark] .colab-df-convert {\n",
              "      background-color: #3B4455;\n",
              "      fill: #D2E3FC;\n",
              "    }\n",
              "\n",
              "    [theme=dark] .colab-df-convert:hover {\n",
              "      background-color: #434B5C;\n",
              "      box-shadow: 0px 1px 3px 1px rgba(0, 0, 0, 0.15);\n",
              "      filter: drop-shadow(0px 1px 2px rgba(0, 0, 0, 0.3));\n",
              "      fill: #FFFFFF;\n",
              "    }\n",
              "  </style>\n",
              "\n",
              "    <script>\n",
              "      const buttonEl =\n",
              "        document.querySelector('#df-6bc03d02-c3c7-457b-bc63-87816cb9e648 button.colab-df-convert');\n",
              "      buttonEl.style.display =\n",
              "        google.colab.kernel.accessAllowed ? 'block' : 'none';\n",
              "\n",
              "      async function convertToInteractive(key) {\n",
              "        const element = document.querySelector('#df-6bc03d02-c3c7-457b-bc63-87816cb9e648');\n",
              "        const dataTable =\n",
              "          await google.colab.kernel.invokeFunction('convertToInteractive',\n",
              "                                                    [key], {});\n",
              "        if (!dataTable) return;\n",
              "\n",
              "        const docLinkHtml = 'Like what you see? Visit the ' +\n",
              "          '<a target=\"_blank\" href=https://colab.research.google.com/notebooks/data_table.ipynb>data table notebook</a>'\n",
              "          + ' to learn more about interactive tables.';\n",
              "        element.innerHTML = '';\n",
              "        dataTable['output_type'] = 'display_data';\n",
              "        await google.colab.output.renderOutput(dataTable, element);\n",
              "        const docLink = document.createElement('div');\n",
              "        docLink.innerHTML = docLinkHtml;\n",
              "        element.appendChild(docLink);\n",
              "      }\n",
              "    </script>\n",
              "  </div>\n",
              "\n",
              "\n",
              "<div id=\"df-bf4d3afc-1900-4256-bc8a-0ddd5dc1496b\">\n",
              "  <button class=\"colab-df-quickchart\" onclick=\"quickchart('df-bf4d3afc-1900-4256-bc8a-0ddd5dc1496b')\"\n",
              "            title=\"Suggest charts\"\n",
              "            style=\"display:none;\">\n",
              "\n",
              "<svg xmlns=\"http://www.w3.org/2000/svg\" height=\"24px\"viewBox=\"0 0 24 24\"\n",
              "     width=\"24px\">\n",
              "    <g>\n",
              "        <path d=\"M19 3H5c-1.1 0-2 .9-2 2v14c0 1.1.9 2 2 2h14c1.1 0 2-.9 2-2V5c0-1.1-.9-2-2-2zM9 17H7v-7h2v7zm4 0h-2V7h2v10zm4 0h-2v-4h2v4z\"/>\n",
              "    </g>\n",
              "</svg>\n",
              "  </button>\n",
              "\n",
              "<style>\n",
              "  .colab-df-quickchart {\n",
              "      --bg-color: #E8F0FE;\n",
              "      --fill-color: #1967D2;\n",
              "      --hover-bg-color: #E2EBFA;\n",
              "      --hover-fill-color: #174EA6;\n",
              "      --disabled-fill-color: #AAA;\n",
              "      --disabled-bg-color: #DDD;\n",
              "  }\n",
              "\n",
              "  [theme=dark] .colab-df-quickchart {\n",
              "      --bg-color: #3B4455;\n",
              "      --fill-color: #D2E3FC;\n",
              "      --hover-bg-color: #434B5C;\n",
              "      --hover-fill-color: #FFFFFF;\n",
              "      --disabled-bg-color: #3B4455;\n",
              "      --disabled-fill-color: #666;\n",
              "  }\n",
              "\n",
              "  .colab-df-quickchart {\n",
              "    background-color: var(--bg-color);\n",
              "    border: none;\n",
              "    border-radius: 50%;\n",
              "    cursor: pointer;\n",
              "    display: none;\n",
              "    fill: var(--fill-color);\n",
              "    height: 32px;\n",
              "    padding: 0;\n",
              "    width: 32px;\n",
              "  }\n",
              "\n",
              "  .colab-df-quickchart:hover {\n",
              "    background-color: var(--hover-bg-color);\n",
              "    box-shadow: 0 1px 2px rgba(60, 64, 67, 0.3), 0 1px 3px 1px rgba(60, 64, 67, 0.15);\n",
              "    fill: var(--button-hover-fill-color);\n",
              "  }\n",
              "\n",
              "  .colab-df-quickchart-complete:disabled,\n",
              "  .colab-df-quickchart-complete:disabled:hover {\n",
              "    background-color: var(--disabled-bg-color);\n",
              "    fill: var(--disabled-fill-color);\n",
              "    box-shadow: none;\n",
              "  }\n",
              "\n",
              "  .colab-df-spinner {\n",
              "    border: 2px solid var(--fill-color);\n",
              "    border-color: transparent;\n",
              "    border-bottom-color: var(--fill-color);\n",
              "    animation:\n",
              "      spin 1s steps(1) infinite;\n",
              "  }\n",
              "\n",
              "  @keyframes spin {\n",
              "    0% {\n",
              "      border-color: transparent;\n",
              "      border-bottom-color: var(--fill-color);\n",
              "      border-left-color: var(--fill-color);\n",
              "    }\n",
              "    20% {\n",
              "      border-color: transparent;\n",
              "      border-left-color: var(--fill-color);\n",
              "      border-top-color: var(--fill-color);\n",
              "    }\n",
              "    30% {\n",
              "      border-color: transparent;\n",
              "      border-left-color: var(--fill-color);\n",
              "      border-top-color: var(--fill-color);\n",
              "      border-right-color: var(--fill-color);\n",
              "    }\n",
              "    40% {\n",
              "      border-color: transparent;\n",
              "      border-right-color: var(--fill-color);\n",
              "      border-top-color: var(--fill-color);\n",
              "    }\n",
              "    60% {\n",
              "      border-color: transparent;\n",
              "      border-right-color: var(--fill-color);\n",
              "    }\n",
              "    80% {\n",
              "      border-color: transparent;\n",
              "      border-right-color: var(--fill-color);\n",
              "      border-bottom-color: var(--fill-color);\n",
              "    }\n",
              "    90% {\n",
              "      border-color: transparent;\n",
              "      border-bottom-color: var(--fill-color);\n",
              "    }\n",
              "  }\n",
              "</style>\n",
              "\n",
              "  <script>\n",
              "    async function quickchart(key) {\n",
              "      const quickchartButtonEl =\n",
              "        document.querySelector('#' + key + ' button');\n",
              "      quickchartButtonEl.disabled = true;  // To prevent multiple clicks.\n",
              "      quickchartButtonEl.classList.add('colab-df-spinner');\n",
              "      try {\n",
              "        const charts = await google.colab.kernel.invokeFunction(\n",
              "            'suggestCharts', [key], {});\n",
              "      } catch (error) {\n",
              "        console.error('Error during call to suggestCharts:', error);\n",
              "      }\n",
              "      quickchartButtonEl.classList.remove('colab-df-spinner');\n",
              "      quickchartButtonEl.classList.add('colab-df-quickchart-complete');\n",
              "    }\n",
              "    (() => {\n",
              "      let quickchartButtonEl =\n",
              "        document.querySelector('#df-bf4d3afc-1900-4256-bc8a-0ddd5dc1496b button');\n",
              "      quickchartButtonEl.style.display =\n",
              "        google.colab.kernel.accessAllowed ? 'block' : 'none';\n",
              "    })();\n",
              "  </script>\n",
              "</div>\n",
              "\n",
              "  <div id=\"id_240e1ef6-585d-4f31-99c1-18d1a10d6887\">\n",
              "    <style>\n",
              "      .colab-df-generate {\n",
              "        background-color: #E8F0FE;\n",
              "        border: none;\n",
              "        border-radius: 50%;\n",
              "        cursor: pointer;\n",
              "        display: none;\n",
              "        fill: #1967D2;\n",
              "        height: 32px;\n",
              "        padding: 0 0 0 0;\n",
              "        width: 32px;\n",
              "      }\n",
              "\n",
              "      .colab-df-generate:hover {\n",
              "        background-color: #E2EBFA;\n",
              "        box-shadow: 0px 1px 2px rgba(60, 64, 67, 0.3), 0px 1px 3px 1px rgba(60, 64, 67, 0.15);\n",
              "        fill: #174EA6;\n",
              "      }\n",
              "\n",
              "      [theme=dark] .colab-df-generate {\n",
              "        background-color: #3B4455;\n",
              "        fill: #D2E3FC;\n",
              "      }\n",
              "\n",
              "      [theme=dark] .colab-df-generate:hover {\n",
              "        background-color: #434B5C;\n",
              "        box-shadow: 0px 1px 3px 1px rgba(0, 0, 0, 0.15);\n",
              "        filter: drop-shadow(0px 1px 2px rgba(0, 0, 0, 0.3));\n",
              "        fill: #FFFFFF;\n",
              "      }\n",
              "    </style>\n",
              "    <button class=\"colab-df-generate\" onclick=\"generateWithVariable('df_resultados_ej_2_2')\"\n",
              "            title=\"Generate code using this dataframe.\"\n",
              "            style=\"display:none;\">\n",
              "\n",
              "  <svg xmlns=\"http://www.w3.org/2000/svg\" height=\"24px\"viewBox=\"0 0 24 24\"\n",
              "       width=\"24px\">\n",
              "    <path d=\"M7,19H8.4L18.45,9,17,7.55,7,17.6ZM5,21V16.75L18.45,3.32a2,2,0,0,1,2.83,0l1.4,1.43a1.91,1.91,0,0,1,.58,1.4,1.91,1.91,0,0,1-.58,1.4L9.25,21ZM18.45,9,17,7.55Zm-12,3A5.31,5.31,0,0,0,4.9,8.1,5.31,5.31,0,0,0,1,6.5,5.31,5.31,0,0,0,4.9,4.9,5.31,5.31,0,0,0,6.5,1,5.31,5.31,0,0,0,8.1,4.9,5.31,5.31,0,0,0,12,6.5,5.46,5.46,0,0,0,6.5,12Z\"/>\n",
              "  </svg>\n",
              "    </button>\n",
              "    <script>\n",
              "      (() => {\n",
              "      const buttonEl =\n",
              "        document.querySelector('#id_240e1ef6-585d-4f31-99c1-18d1a10d6887 button.colab-df-generate');\n",
              "      buttonEl.style.display =\n",
              "        google.colab.kernel.accessAllowed ? 'block' : 'none';\n",
              "\n",
              "      buttonEl.onclick = () => {\n",
              "        google.colab.notebook.generateWithVariable('df_resultados_ej_2_2');\n",
              "      }\n",
              "      })();\n",
              "    </script>\n",
              "  </div>\n",
              "\n",
              "    </div>\n",
              "  </div>\n"
            ],
            "application/vnd.google.colaboratory.intrinsic+json": {
              "type": "dataframe",
              "variable_name": "df_resultados_ej_2_2",
              "summary": "{\n  \"name\": \"df_resultados_ej_2_2\",\n  \"rows\": 7,\n  \"fields\": [\n    {\n      \"column\": \"test_accuracy\",\n      \"properties\": {\n        \"dtype\": \"number\",\n        \"std\": 0.019668026736817414,\n        \"min\": 0.6555555555555556,\n        \"max\": 0.7111111111111111,\n        \"num_unique_values\": 5,\n        \"samples\": [\n          0.6777777777777778,\n          0.6911111111111111,\n          0.7111111111111111\n        ],\n        \"semantic_type\": \"\",\n        \"description\": \"\"\n      }\n    },\n    {\n      \"column\": \"train_accuracy\",\n      \"properties\": {\n        \"dtype\": \"number\",\n        \"std\": 0.002832788618662648,\n        \"min\": 0.8055555555555556,\n        \"max\": 0.8138888888888889,\n        \"num_unique_values\": 5,\n        \"samples\": [\n          0.8111111111111111,\n          0.8099999999999999,\n          0.8055555555555556\n        ],\n        \"semantic_type\": \"\",\n        \"description\": \"\"\n      }\n    },\n    {\n      \"column\": \"test_roc_auc\",\n      \"properties\": {\n        \"dtype\": \"number\",\n        \"std\": 0.03157593567879268,\n        \"min\": 0.5940643863179075,\n        \"max\": 0.6786319954776711,\n        \"num_unique_values\": 7,\n        \"samples\": [\n          0.6122102882984738,\n          0.6786319954776711,\n          0.6444587793358741\n        ],\n        \"semantic_type\": \"\",\n        \"description\": \"\"\n      }\n    },\n    {\n      \"column\": \"train_roc_auc\",\n      \"properties\": {\n        \"dtype\": \"number\",\n        \"std\": 0.025837565748899366,\n        \"min\": 0.7740675719250475,\n        \"max\": 0.8477927542433319,\n        \"num_unique_values\": 6,\n        \"samples\": [\n          0.7740675719250475,\n          0.8329869943749776,\n          0.8149318089952782\n        ],\n        \"semantic_type\": \"\",\n        \"description\": \"\"\n      }\n    },\n    {\n      \"column\": \"test_average_precision\",\n      \"properties\": {\n        \"dtype\": \"number\",\n        \"std\": 0.04554168804220743,\n        \"min\": 0.3789690045473546,\n        \"max\": 0.5097347878004499,\n        \"num_unique_values\": 7,\n        \"samples\": [\n          0.3789690045473546,\n          0.45932202778291936,\n          0.43995929683410784\n        ],\n        \"semantic_type\": \"\",\n        \"description\": \"\"\n      }\n    },\n    {\n      \"column\": \"train_average_precision\",\n      \"properties\": {\n        \"dtype\": \"number\",\n        \"std\": 0.01890250239532297,\n        \"min\": 0.6595020614202715,\n        \"max\": 0.7111328431734739,\n        \"num_unique_values\": 6,\n        \"samples\": [\n          0.6653871577629618,\n          0.6635964838548001,\n          0.6739469312640165\n        ],\n        \"semantic_type\": \"\",\n        \"description\": \"\"\n      }\n    }\n  ]\n}"
            }
          },
          "metadata": {},
          "execution_count": 9
        }
      ],
      "source": [
        "scoring = ['accuracy', 'roc_auc', 'average_precision']\n",
        "\n",
        "skf = StratifiedKFold(n_splits=5)\n",
        "\n",
        "cv_results = cross_validate(tree_clf, X_train, y_train, cv = skf, scoring = scoring, return_train_score = True)\n",
        "\n",
        "predicted_labels = cross_val_predict(tree_clf, X_train, y_train, cv = skf)\n",
        "\n",
        "df_resultados_ej_2_2 = pd.DataFrame({key: cv_results[key] for key in list(cv_results.keys())[2:]})\n",
        "df_resultados_ej_2_2.index = df_resultados_ej_2_2.index + 1 # asi el indice del df se correponde con el k-Fold\n",
        "metricas_globales = [accuracy_score(y_train, predicted_labels), np.nan, roc_auc_score(y_train, predicted_labels), np.nan,average_precision_score(y_train, predicted_labels), np.nan]\n",
        "\n",
        "\n",
        "df_resultados_ej_2_2.loc['Promedio'] = df_resultados_ej_2_2.mean()\n",
        "df_resultados_ej_2_2.loc['Global'] = metricas_globales\n",
        "\n",
        "df_resultados_ej_2_2\n"
      ]
    },
    {
      "cell_type": "markdown",
      "metadata": {
        "id": "uZTON8y-YX1O"
      },
      "source": [
        "## 2.3"
      ]
    },
    {
      "cell_type": "code",
      "execution_count": 10,
      "metadata": {
        "id": "eXYrnxvP3118",
        "colab": {
          "base_uri": "https://localhost:8080/",
          "height": 238
        },
        "outputId": "4b1fe8c6-39f5-4d1c-e631-3364618d8201"
      },
      "outputs": [
        {
          "output_type": "execute_result",
          "data": {
            "text/plain": [
              "             Accuracy (training)  Accuracy (testing)\n",
              "3   gini                0.810000            0.691111\n",
              "5   gini                0.925000            0.657778\n",
              "NaN gini                1.000000            0.622222\n",
              "3   entropy             0.786111            0.682222\n",
              "5   entropy             0.896667            0.686667\n",
              "NaN entropy             1.000000            0.642222"
            ],
            "text/html": [
              "\n",
              "  <div id=\"df-6dbe6cde-f48b-4740-b404-1a4adbb36444\" class=\"colab-df-container\">\n",
              "    <div>\n",
              "<style scoped>\n",
              "    .dataframe tbody tr th:only-of-type {\n",
              "        vertical-align: middle;\n",
              "    }\n",
              "\n",
              "    .dataframe tbody tr th {\n",
              "        vertical-align: top;\n",
              "    }\n",
              "\n",
              "    .dataframe thead th {\n",
              "        text-align: right;\n",
              "    }\n",
              "</style>\n",
              "<table border=\"1\" class=\"dataframe\">\n",
              "  <thead>\n",
              "    <tr style=\"text-align: right;\">\n",
              "      <th></th>\n",
              "      <th></th>\n",
              "      <th>Accuracy (training)</th>\n",
              "      <th>Accuracy (testing)</th>\n",
              "    </tr>\n",
              "  </thead>\n",
              "  <tbody>\n",
              "    <tr>\n",
              "      <th>3</th>\n",
              "      <th>gini</th>\n",
              "      <td>0.810000</td>\n",
              "      <td>0.691111</td>\n",
              "    </tr>\n",
              "    <tr>\n",
              "      <th>5</th>\n",
              "      <th>gini</th>\n",
              "      <td>0.925000</td>\n",
              "      <td>0.657778</td>\n",
              "    </tr>\n",
              "    <tr>\n",
              "      <th>NaN</th>\n",
              "      <th>gini</th>\n",
              "      <td>1.000000</td>\n",
              "      <td>0.622222</td>\n",
              "    </tr>\n",
              "    <tr>\n",
              "      <th>3</th>\n",
              "      <th>entropy</th>\n",
              "      <td>0.786111</td>\n",
              "      <td>0.682222</td>\n",
              "    </tr>\n",
              "    <tr>\n",
              "      <th>5</th>\n",
              "      <th>entropy</th>\n",
              "      <td>0.896667</td>\n",
              "      <td>0.686667</td>\n",
              "    </tr>\n",
              "    <tr>\n",
              "      <th>NaN</th>\n",
              "      <th>entropy</th>\n",
              "      <td>1.000000</td>\n",
              "      <td>0.642222</td>\n",
              "    </tr>\n",
              "  </tbody>\n",
              "</table>\n",
              "</div>\n",
              "    <div class=\"colab-df-buttons\">\n",
              "\n",
              "  <div class=\"colab-df-container\">\n",
              "    <button class=\"colab-df-convert\" onclick=\"convertToInteractive('df-6dbe6cde-f48b-4740-b404-1a4adbb36444')\"\n",
              "            title=\"Convert this dataframe to an interactive table.\"\n",
              "            style=\"display:none;\">\n",
              "\n",
              "  <svg xmlns=\"http://www.w3.org/2000/svg\" height=\"24px\" viewBox=\"0 -960 960 960\">\n",
              "    <path d=\"M120-120v-720h720v720H120Zm60-500h600v-160H180v160Zm220 220h160v-160H400v160Zm0 220h160v-160H400v160ZM180-400h160v-160H180v160Zm440 0h160v-160H620v160ZM180-180h160v-160H180v160Zm440 0h160v-160H620v160Z\"/>\n",
              "  </svg>\n",
              "    </button>\n",
              "\n",
              "  <style>\n",
              "    .colab-df-container {\n",
              "      display:flex;\n",
              "      gap: 12px;\n",
              "    }\n",
              "\n",
              "    .colab-df-convert {\n",
              "      background-color: #E8F0FE;\n",
              "      border: none;\n",
              "      border-radius: 50%;\n",
              "      cursor: pointer;\n",
              "      display: none;\n",
              "      fill: #1967D2;\n",
              "      height: 32px;\n",
              "      padding: 0 0 0 0;\n",
              "      width: 32px;\n",
              "    }\n",
              "\n",
              "    .colab-df-convert:hover {\n",
              "      background-color: #E2EBFA;\n",
              "      box-shadow: 0px 1px 2px rgba(60, 64, 67, 0.3), 0px 1px 3px 1px rgba(60, 64, 67, 0.15);\n",
              "      fill: #174EA6;\n",
              "    }\n",
              "\n",
              "    .colab-df-buttons div {\n",
              "      margin-bottom: 4px;\n",
              "    }\n",
              "\n",
              "    [theme=dark] .colab-df-convert {\n",
              "      background-color: #3B4455;\n",
              "      fill: #D2E3FC;\n",
              "    }\n",
              "\n",
              "    [theme=dark] .colab-df-convert:hover {\n",
              "      background-color: #434B5C;\n",
              "      box-shadow: 0px 1px 3px 1px rgba(0, 0, 0, 0.15);\n",
              "      filter: drop-shadow(0px 1px 2px rgba(0, 0, 0, 0.3));\n",
              "      fill: #FFFFFF;\n",
              "    }\n",
              "  </style>\n",
              "\n",
              "    <script>\n",
              "      const buttonEl =\n",
              "        document.querySelector('#df-6dbe6cde-f48b-4740-b404-1a4adbb36444 button.colab-df-convert');\n",
              "      buttonEl.style.display =\n",
              "        google.colab.kernel.accessAllowed ? 'block' : 'none';\n",
              "\n",
              "      async function convertToInteractive(key) {\n",
              "        const element = document.querySelector('#df-6dbe6cde-f48b-4740-b404-1a4adbb36444');\n",
              "        const dataTable =\n",
              "          await google.colab.kernel.invokeFunction('convertToInteractive',\n",
              "                                                    [key], {});\n",
              "        if (!dataTable) return;\n",
              "\n",
              "        const docLinkHtml = 'Like what you see? Visit the ' +\n",
              "          '<a target=\"_blank\" href=https://colab.research.google.com/notebooks/data_table.ipynb>data table notebook</a>'\n",
              "          + ' to learn more about interactive tables.';\n",
              "        element.innerHTML = '';\n",
              "        dataTable['output_type'] = 'display_data';\n",
              "        await google.colab.output.renderOutput(dataTable, element);\n",
              "        const docLink = document.createElement('div');\n",
              "        docLink.innerHTML = docLinkHtml;\n",
              "        element.appendChild(docLink);\n",
              "      }\n",
              "    </script>\n",
              "  </div>\n",
              "\n",
              "\n",
              "<div id=\"df-d37a68ee-4bdb-4e5c-af48-c6c800404aff\">\n",
              "  <button class=\"colab-df-quickchart\" onclick=\"quickchart('df-d37a68ee-4bdb-4e5c-af48-c6c800404aff')\"\n",
              "            title=\"Suggest charts\"\n",
              "            style=\"display:none;\">\n",
              "\n",
              "<svg xmlns=\"http://www.w3.org/2000/svg\" height=\"24px\"viewBox=\"0 0 24 24\"\n",
              "     width=\"24px\">\n",
              "    <g>\n",
              "        <path d=\"M19 3H5c-1.1 0-2 .9-2 2v14c0 1.1.9 2 2 2h14c1.1 0 2-.9 2-2V5c0-1.1-.9-2-2-2zM9 17H7v-7h2v7zm4 0h-2V7h2v10zm4 0h-2v-4h2v4z\"/>\n",
              "    </g>\n",
              "</svg>\n",
              "  </button>\n",
              "\n",
              "<style>\n",
              "  .colab-df-quickchart {\n",
              "      --bg-color: #E8F0FE;\n",
              "      --fill-color: #1967D2;\n",
              "      --hover-bg-color: #E2EBFA;\n",
              "      --hover-fill-color: #174EA6;\n",
              "      --disabled-fill-color: #AAA;\n",
              "      --disabled-bg-color: #DDD;\n",
              "  }\n",
              "\n",
              "  [theme=dark] .colab-df-quickchart {\n",
              "      --bg-color: #3B4455;\n",
              "      --fill-color: #D2E3FC;\n",
              "      --hover-bg-color: #434B5C;\n",
              "      --hover-fill-color: #FFFFFF;\n",
              "      --disabled-bg-color: #3B4455;\n",
              "      --disabled-fill-color: #666;\n",
              "  }\n",
              "\n",
              "  .colab-df-quickchart {\n",
              "    background-color: var(--bg-color);\n",
              "    border: none;\n",
              "    border-radius: 50%;\n",
              "    cursor: pointer;\n",
              "    display: none;\n",
              "    fill: var(--fill-color);\n",
              "    height: 32px;\n",
              "    padding: 0;\n",
              "    width: 32px;\n",
              "  }\n",
              "\n",
              "  .colab-df-quickchart:hover {\n",
              "    background-color: var(--hover-bg-color);\n",
              "    box-shadow: 0 1px 2px rgba(60, 64, 67, 0.3), 0 1px 3px 1px rgba(60, 64, 67, 0.15);\n",
              "    fill: var(--button-hover-fill-color);\n",
              "  }\n",
              "\n",
              "  .colab-df-quickchart-complete:disabled,\n",
              "  .colab-df-quickchart-complete:disabled:hover {\n",
              "    background-color: var(--disabled-bg-color);\n",
              "    fill: var(--disabled-fill-color);\n",
              "    box-shadow: none;\n",
              "  }\n",
              "\n",
              "  .colab-df-spinner {\n",
              "    border: 2px solid var(--fill-color);\n",
              "    border-color: transparent;\n",
              "    border-bottom-color: var(--fill-color);\n",
              "    animation:\n",
              "      spin 1s steps(1) infinite;\n",
              "  }\n",
              "\n",
              "  @keyframes spin {\n",
              "    0% {\n",
              "      border-color: transparent;\n",
              "      border-bottom-color: var(--fill-color);\n",
              "      border-left-color: var(--fill-color);\n",
              "    }\n",
              "    20% {\n",
              "      border-color: transparent;\n",
              "      border-left-color: var(--fill-color);\n",
              "      border-top-color: var(--fill-color);\n",
              "    }\n",
              "    30% {\n",
              "      border-color: transparent;\n",
              "      border-left-color: var(--fill-color);\n",
              "      border-top-color: var(--fill-color);\n",
              "      border-right-color: var(--fill-color);\n",
              "    }\n",
              "    40% {\n",
              "      border-color: transparent;\n",
              "      border-right-color: var(--fill-color);\n",
              "      border-top-color: var(--fill-color);\n",
              "    }\n",
              "    60% {\n",
              "      border-color: transparent;\n",
              "      border-right-color: var(--fill-color);\n",
              "    }\n",
              "    80% {\n",
              "      border-color: transparent;\n",
              "      border-right-color: var(--fill-color);\n",
              "      border-bottom-color: var(--fill-color);\n",
              "    }\n",
              "    90% {\n",
              "      border-color: transparent;\n",
              "      border-bottom-color: var(--fill-color);\n",
              "    }\n",
              "  }\n",
              "</style>\n",
              "\n",
              "  <script>\n",
              "    async function quickchart(key) {\n",
              "      const quickchartButtonEl =\n",
              "        document.querySelector('#' + key + ' button');\n",
              "      quickchartButtonEl.disabled = true;  // To prevent multiple clicks.\n",
              "      quickchartButtonEl.classList.add('colab-df-spinner');\n",
              "      try {\n",
              "        const charts = await google.colab.kernel.invokeFunction(\n",
              "            'suggestCharts', [key], {});\n",
              "      } catch (error) {\n",
              "        console.error('Error during call to suggestCharts:', error);\n",
              "      }\n",
              "      quickchartButtonEl.classList.remove('colab-df-spinner');\n",
              "      quickchartButtonEl.classList.add('colab-df-quickchart-complete');\n",
              "    }\n",
              "    (() => {\n",
              "      let quickchartButtonEl =\n",
              "        document.querySelector('#df-d37a68ee-4bdb-4e5c-af48-c6c800404aff button');\n",
              "      quickchartButtonEl.style.display =\n",
              "        google.colab.kernel.accessAllowed ? 'block' : 'none';\n",
              "    })();\n",
              "  </script>\n",
              "</div>\n",
              "\n",
              "  <div id=\"id_82f38e59-cf72-421c-bc74-a9a58899bbce\">\n",
              "    <style>\n",
              "      .colab-df-generate {\n",
              "        background-color: #E8F0FE;\n",
              "        border: none;\n",
              "        border-radius: 50%;\n",
              "        cursor: pointer;\n",
              "        display: none;\n",
              "        fill: #1967D2;\n",
              "        height: 32px;\n",
              "        padding: 0 0 0 0;\n",
              "        width: 32px;\n",
              "      }\n",
              "\n",
              "      .colab-df-generate:hover {\n",
              "        background-color: #E2EBFA;\n",
              "        box-shadow: 0px 1px 2px rgba(60, 64, 67, 0.3), 0px 1px 3px 1px rgba(60, 64, 67, 0.15);\n",
              "        fill: #174EA6;\n",
              "      }\n",
              "\n",
              "      [theme=dark] .colab-df-generate {\n",
              "        background-color: #3B4455;\n",
              "        fill: #D2E3FC;\n",
              "      }\n",
              "\n",
              "      [theme=dark] .colab-df-generate:hover {\n",
              "        background-color: #434B5C;\n",
              "        box-shadow: 0px 1px 3px 1px rgba(0, 0, 0, 0.15);\n",
              "        filter: drop-shadow(0px 1px 2px rgba(0, 0, 0, 0.3));\n",
              "        fill: #FFFFFF;\n",
              "      }\n",
              "    </style>\n",
              "    <button class=\"colab-df-generate\" onclick=\"generateWithVariable('results_df')\"\n",
              "            title=\"Generate code using this dataframe.\"\n",
              "            style=\"display:none;\">\n",
              "\n",
              "  <svg xmlns=\"http://www.w3.org/2000/svg\" height=\"24px\"viewBox=\"0 0 24 24\"\n",
              "       width=\"24px\">\n",
              "    <path d=\"M7,19H8.4L18.45,9,17,7.55,7,17.6ZM5,21V16.75L18.45,3.32a2,2,0,0,1,2.83,0l1.4,1.43a1.91,1.91,0,0,1,.58,1.4,1.91,1.91,0,0,1-.58,1.4L9.25,21ZM18.45,9,17,7.55Zm-12,3A5.31,5.31,0,0,0,4.9,8.1,5.31,5.31,0,0,0,1,6.5,5.31,5.31,0,0,0,4.9,4.9,5.31,5.31,0,0,0,6.5,1,5.31,5.31,0,0,0,8.1,4.9,5.31,5.31,0,0,0,12,6.5,5.46,5.46,0,0,0,6.5,12Z\"/>\n",
              "  </svg>\n",
              "    </button>\n",
              "    <script>\n",
              "      (() => {\n",
              "      const buttonEl =\n",
              "        document.querySelector('#id_82f38e59-cf72-421c-bc74-a9a58899bbce button.colab-df-generate');\n",
              "      buttonEl.style.display =\n",
              "        google.colab.kernel.accessAllowed ? 'block' : 'none';\n",
              "\n",
              "      buttonEl.onclick = () => {\n",
              "        google.colab.notebook.generateWithVariable('results_df');\n",
              "      }\n",
              "      })();\n",
              "    </script>\n",
              "  </div>\n",
              "\n",
              "    </div>\n",
              "  </div>\n"
            ],
            "application/vnd.google.colaboratory.intrinsic+json": {
              "type": "dataframe",
              "variable_name": "results_df",
              "summary": "{\n  \"name\": \"results_df\",\n  \"rows\": 6,\n  \"fields\": [\n    {\n      \"column\": \"Accuracy (training)\",\n      \"properties\": {\n        \"dtype\": \"number\",\n        \"std\": 0.09127334246792704,\n        \"min\": 0.7861111111111111,\n        \"max\": 1.0,\n        \"num_unique_values\": 5,\n        \"samples\": [\n          0.925,\n          0.8966666666666667,\n          1.0\n        ],\n        \"semantic_type\": \"\",\n        \"description\": \"\"\n      }\n    },\n    {\n      \"column\": \"Accuracy (testing)\",\n      \"properties\": {\n        \"dtype\": \"number\",\n        \"std\": 0.027708060659569902,\n        \"min\": 0.6222222222222222,\n        \"max\": 0.6911111111111111,\n        \"num_unique_values\": 6,\n        \"samples\": [\n          0.6911111111111111,\n          0.6577777777777778,\n          0.6422222222222221\n        ],\n        \"semantic_type\": \"\",\n        \"description\": \"\"\n      }\n    }\n  ]\n}"
            }
          },
          "metadata": {},
          "execution_count": 10
        }
      ],
      "source": [
        "alturas = [3, 5, None]\n",
        "criterios = [\"gini\", \"entropy\"]\n",
        "resultados = {}\n",
        "\n",
        "for criterio in criterios:\n",
        "    for altura in alturas:\n",
        "\n",
        "        tree = DecisionTreeClassifier(max_depth = altura, criterion = criterio, random_state = 51)\n",
        "\n",
        "        cv_results_grid = cross_validate(tree, X_train, y_train, cv = skf, scoring = 'accuracy', return_train_score = True)\n",
        "\n",
        "        accuracy_train = cv_results_grid['train_score'].mean()\n",
        "\n",
        "        accuracy_test =  cv_results_grid['test_score'].mean()\n",
        "\n",
        "\n",
        "\n",
        "        resultados[(altura, criterio)] = (accuracy_train,accuracy_test)\n",
        "\n",
        "results_df = pd.DataFrame(resultados.values(), index=resultados.keys(), columns=['Accuracy (training)', 'Accuracy (testing)'])\n",
        "\n",
        "results_df"
      ]
    },
    {
      "cell_type": "markdown",
      "metadata": {
        "id": "Qb9c4XKCYX1O"
      },
      "source": [
        "## 2.4\n",
        "Notamos que en Test el criterio de corte Gini da siempre mejor que entropy para cualquier altura.\n",
        "Sera porque entropy tiende a producir arboles mas equilibrados y nuestro data set esta desbalanceado?\n",
        "\n",
        "Asimismo tambien vemos que a medida que aumenta la altura del arbol, decae el rendimiento en el test set y aumenta en el train set, independientemente del criterio de corte utilizado."
      ]
    },
    {
      "cell_type": "markdown",
      "metadata": {
        "id": "Lgg2Etw93119"
      },
      "source": [
        "# Ejercicio 3"
      ]
    },
    {
      "cell_type": "code",
      "source": [
        "from sklearn.model_selection import RandomizedSearchCV\n",
        "from sklearn.tree import DecisionTreeClassifier\n",
        "import scipy\n",
        "from sklearn.neighbors import KNeighborsClassifier\n",
        "from sklearn import preprocessing\n",
        "from sklearn.svm import SVC\n",
        "from sklearn.discriminant_analysis import LinearDiscriminantAnalysis\n",
        "from sklearn.naive_bayes import GaussianNB"
      ],
      "metadata": {
        "id": "Wv_AHLd3Y5kY"
      },
      "execution_count": 11,
      "outputs": []
    },
    {
      "cell_type": "markdown",
      "metadata": {
        "id": "B2H_oZ5wYX1P"
      },
      "source": [
        "## Árboles de decisión"
      ]
    },
    {
      "cell_type": "code",
      "execution_count": 12,
      "metadata": {
        "colab": {
          "base_uri": "https://localhost:8080/"
        },
        "id": "Y4yq7Jfh3119",
        "outputId": "24f5e017-94c1-4005-a104-d75d69d9677b"
      },
      "outputs": [
        {
          "output_type": "stream",
          "name": "stdout",
          "text": [
            "Mejor modelo: DecisionTreeClassifier(criterion='log_loss', max_depth=38, max_features=27,\n",
            "                       max_leaf_nodes=46, min_samples_leaf=16,\n",
            "                       min_samples_split=4, random_state=42) \n",
            "\n",
            "Mejor score AUCROC: 0.6464084475855296\n"
          ]
        }
      ],
      "source": [
        "# Hay que revisar en la documentacion del modelo cada parametro y usar una distribucion con los valores mas probables\n",
        "# Las listas son interpretadas como distribuciones uniformes discretas\n",
        "\n",
        "# Comento los parámetros que generan errores\n",
        "dist_params = {\n",
        "    'criterion': ['gini', 'entropy', 'log_loss'],\n",
        "    'splitter': ['best', 'random'],\n",
        "    'max_depth': scipy.stats.randint(1,40), #puede ser float\n",
        "    'min_samples_split': scipy.stats.randint(2,20), #puede ser float\n",
        "    'min_samples_leaf': scipy.stats.randint(1,20),\n",
        "    #'min_weight_fraction_leaf':scipy.stats.uniform(0,1) ,\n",
        "    'max_features': scipy.stats.randint(1,50),\n",
        "    'random_state': [42],\n",
        "    'max_leaf_nodes': scipy.stats.randint(2,len(X_train)),\n",
        "    #'min_impurity_decrease': scipy.stats.uniform(0,0.1),\n",
        "    #'class_weight': {i: scipy.stats.uniform(0,1) for i in range(len(X_train[0]))},\n",
        "    #'ccp_alpha': scipy.stats.uniform(0,0.1),\n",
        "}\n",
        "\n",
        "tree = DecisionTreeClassifier()\n",
        "n_iter_search = 50    # Esto es la cantidad de configuraciones que pruebo\n",
        "random_search = RandomizedSearchCV(estimator=tree, param_distributions=dist_params, scoring='roc_auc', cv=skf,  n_iter=n_iter_search)\n",
        "random_search.fit(X_train, y_train)\n",
        "\n",
        "mejor_modelo = random_search.best_estimator_\n",
        "mejor_score = random_search.best_score_\n",
        "print(\"Mejor modelo:\", mejor_modelo,'\\n')\n",
        "print(\"Mejor score AUCROC:\", mejor_score)"
      ]
    },
    {
      "cell_type": "markdown",
      "metadata": {
        "id": "i7oH8WeGYX1P"
      },
      "source": [
        "## KNN (k-vecinos más cercanos)"
      ]
    },
    {
      "cell_type": "code",
      "execution_count": 13,
      "metadata": {
        "colab": {
          "base_uri": "https://localhost:8080/"
        },
        "id": "ULK3jcaX3119",
        "outputId": "71ca3f74-1f0c-445d-e731-223048579b79"
      },
      "outputs": [
        {
          "output_type": "stream",
          "name": "stdout",
          "text": [
            "Mejor modelo: KNeighborsClassifier(algorithm='ball_tree', leaf_size=9, metric='manhattan',\n",
            "                     n_neighbors=28, weights='distance') \n",
            "\n",
            "Mejor score AUCROC: 0.7825763989652829\n"
          ]
        }
      ],
      "source": [
        "dist_params = {\n",
        "    'n_neighbors': scipy.stats.randint(1, 30),\n",
        "    'weights': ['uniform', 'distance'],\n",
        "    'algorithm': ['auto', 'ball_tree', 'kd_tree', 'brute'],\n",
        "    'leaf_size': scipy.stats.randint(1, 50),\n",
        "    'p': scipy.stats.randint(1, 5),\n",
        "    'metric': ['euclidean', 'manhattan', 'chebyshev', 'minkowski'],\n",
        "    #'metric_params':,\n",
        "    #'n_jobs':,\n",
        "}\n",
        "\n",
        "knn = KNeighborsClassifier()\n",
        "random_search = RandomizedSearchCV(estimator=knn, param_distributions=dist_params, scoring='roc_auc', cv=skf, n_iter=n_iter_search)\n",
        "\n",
        "# Normalizo los datos para knn\n",
        "X_train_normalized = preprocessing.normalize(X_train.T).T\n",
        "random_search.fit(X_train_normalized, y_train)\n",
        "\n",
        "mejor_modelo = random_search.best_estimator_\n",
        "mejor_score = random_search.best_score_\n",
        "print(\"Mejor modelo:\", mejor_modelo,'\\n')\n",
        "print(\"Mejor score AUCROC:\", mejor_score)"
      ]
    },
    {
      "cell_type": "markdown",
      "metadata": {
        "id": "0gvUJ5J0YX1Q"
      },
      "source": [
        "## SVM (Support vector machine)"
      ]
    },
    {
      "cell_type": "code",
      "execution_count": 14,
      "metadata": {
        "colab": {
          "base_uri": "https://localhost:8080/"
        },
        "id": "9xm8t0gI3119",
        "outputId": "7e4d17ff-0e0c-4797-e0b6-3aa973f417c4"
      },
      "outputs": [
        {
          "output_type": "stream",
          "name": "stdout",
          "text": [
            "Mejor modelo: SVC(C=9.931000023466545, cache_size=134, coef0=0.2833544358986446, degree=2,\n",
            "    kernel='poly', tol=0.04232495046416493) \n",
            "\n",
            "Mejor score AUCROC: 0.8874233796073181\n"
          ]
        }
      ],
      "source": [
        "dist_params = {\n",
        "    'C': scipy.stats.uniform(0, 10),\n",
        "    'kernel': ['linear', 'poly', 'rbf', 'sigmoid'],\n",
        "    'degree': scipy.stats.randint(1, 6),\n",
        "    'gamma': ['scale', 'auto' ],\n",
        "    'coef0': scipy.stats.uniform(0, 1),\n",
        "    'shrinking': [True, False],\n",
        "    'probability': [True, False],\n",
        "    'tol': scipy.stats.uniform(0, 0.1),\n",
        "    'cache_size': scipy.stats.randint(1, 1000),\n",
        "    #'class_weight': [{0: x, 1: 1 - x} for x in np.linspace(0, 1, 10)],\n",
        "}\n",
        "\n",
        "svm = SVC()\n",
        "random_search = RandomizedSearchCV(estimator=svm, param_distributions=dist_params, scoring='roc_auc', cv=skf, n_iter=n_iter_search)\n",
        "random_search.fit(X_train, y_train)\n",
        "\n",
        "mejor_modelo = random_search.best_estimator_\n",
        "mejor_score = random_search.best_score_\n",
        "print(\"Mejor modelo:\", mejor_modelo,'\\n')\n",
        "print(\"Mejor score AUCROC:\", mejor_score)"
      ]
    },
    {
      "cell_type": "markdown",
      "metadata": {
        "id": "3LCHsIJQYX1Q"
      },
      "source": [
        "## LDA (Linear discriminant analysis)"
      ]
    },
    {
      "cell_type": "code",
      "execution_count": 15,
      "metadata": {
        "colab": {
          "base_uri": "https://localhost:8080/"
        },
        "id": "SU3rWYZu3119",
        "outputId": "d751fc46-9d54-4115-85ca-b8bd497f4cc2"
      },
      "outputs": [
        {
          "output_type": "stream",
          "name": "stdout",
          "text": [
            "Mejor modelo: LinearDiscriminantAnalysis(tol=0.06690050741207361) \n",
            "\n",
            "Mejor score AUCROC: 0.7404353783673245\n"
          ]
        }
      ],
      "source": [
        "# Hubo bastantes errores con los parámetros\n",
        "dist_params = {\n",
        "    #'solver': ['svd','lsqr', 'eigen'],\n",
        "    #'shrinkage': ['auto',None], #scipy.stats.uniform(0, 1),\n",
        "    #'priors': [],\n",
        "    #'n_components': scipy.stats.randint(1, min(len(X_train[0,:]), len(X_train[0]-1))),\n",
        "    'tol': scipy.stats.uniform(0, 0.1)\n",
        "    #'covariance_estimator':\n",
        "}\n",
        "\n",
        "lda = LinearDiscriminantAnalysis()\n",
        "random_search = RandomizedSearchCV(estimator=lda, param_distributions=dist_params, scoring='roc_auc', cv=skf, n_iter=n_iter_search)\n",
        "random_search.fit(X_train, y_train)\n",
        "\n",
        "mejor_modelo = random_search.best_estimator_\n",
        "mejor_score = random_search.best_score_\n",
        "print(\"Mejor modelo:\", mejor_modelo,'\\n')\n",
        "print(\"Mejor score AUCROC:\", mejor_score)"
      ]
    },
    {
      "cell_type": "markdown",
      "metadata": {
        "id": "O5TADYOcYX1Q"
      },
      "source": [
        "## Naïve Bayes"
      ]
    },
    {
      "cell_type": "code",
      "execution_count": 16,
      "metadata": {
        "colab": {
          "base_uri": "https://localhost:8080/"
        },
        "id": "dFhOQ_FH311-",
        "outputId": "ae8265ae-a3d5-4614-9247-6cf3accfe89b"
      },
      "outputs": [
        {
          "output_type": "stream",
          "name": "stdout",
          "text": [
            "Mejor modelo: GaussianNB(var_smoothing=0.024929867202990952) \n",
            "\n",
            "Mejor score AUCROC: 0.8396646807668162\n"
          ]
        }
      ],
      "source": [
        "dist_params = {\n",
        "    'var_smoothing': scipy.stats.uniform(0, 1),\n",
        "    'priors': [None, [0.5, 0.5]],\n",
        "}\n",
        "\n",
        "nb = GaussianNB()\n",
        "random_search = RandomizedSearchCV(estimator=nb, param_distributions=dist_params, scoring='roc_auc', cv=skf, n_iter=n_iter_search)\n",
        "random_search.fit(X_train, y_train)\n",
        "\n",
        "mejor_modelo = random_search.best_estimator_\n",
        "mejor_score = random_search.best_score_\n",
        "print(\"Mejor modelo:\", mejor_modelo,'\\n')\n",
        "print(\"Mejor score AUCROC:\", mejor_score)"
      ]
    },
    {
      "cell_type": "code",
      "source": [],
      "metadata": {
        "id": "HUZJER2vaX-1"
      },
      "execution_count": 16,
      "outputs": []
    }
  ],
  "metadata": {
    "colab": {
      "provenance": []
    },
    "kernelspec": {
      "display_name": "APRENDIZAJE_SUPERVISADO",
      "language": "python",
      "name": "python3"
    },
    "language_info": {
      "codemirror_mode": {
        "name": "ipython",
        "version": 3
      },
      "file_extension": ".py",
      "mimetype": "text/x-python",
      "name": "python",
      "nbconvert_exporter": "python",
      "pygments_lexer": "ipython3",
      "version": "3.12.2"
    }
  },
  "nbformat": 4,
  "nbformat_minor": 0
}
