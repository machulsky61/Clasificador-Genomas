{
 "cells": [
  {
   "cell_type": "code",
   "execution_count": 2,
   "metadata": {},
   "outputs": [],
   "source": [
    "import numpy as np \n",
    "import seaborn as sns\n",
    "import pandas as pd\n",
    "import matplotlib.pyplot as plt\n"
   ]
  },
  {
   "cell_type": "code",
   "execution_count": 3,
   "metadata": {},
   "outputs": [],
   "source": [
    "%matplotlib inline\n",
    "import matplotlib as mpl\n",
    "import matplotlib.pyplot as plt\n",
    "mpl.rc('axes', labelsize=14)\n",
    "mpl.rc('xtick', labelsize=12)\n",
    "mpl.rc('ytick', labelsize=12)\n",
    "import os\n",
    "\n",
    "# Asignar la ruta donde deseas guardar las imágenes\n",
    "PROJECT_ROOT_DIR = r\"C:\\Users\\ezequ\\OneDrive\\Documentos\\Facultad\\Optimizacion\\tp1\"\n",
    "CHAPTER_ID = \"imagenes\"  # El nombre de la capeta donde voy a guardar las imagenes\n",
    "\n",
    "# Crear la ruta completa donde se guardarán las imágenes\n",
    "IMAGES_PATH = os.path.join(PROJECT_ROOT_DIR, CHAPTER_ID)\n",
    "os.makedirs(IMAGES_PATH, exist_ok=True)\n",
    "\n"
   ]
  },
  {
   "cell_type": "code",
   "execution_count": 6,
   "metadata": {},
   "outputs": [],
   "source": [
    "path = r'C:\\Users\\ezequ\\OneDrive\\Documentos\\Facultad\\Aprendizaje Automatico\\material-main\\tp\\01_aprendizaje_supervisado\\datos\\data.csv'\n",
    "df = pd.read_csv(path)\n"
   ]
  },
  {
   "cell_type": "code",
   "execution_count": 6,
   "metadata": {},
   "outputs": [
    {
     "data": {
      "text/plain": [
       "target\n",
       "0    343\n",
       "1    157\n",
       "Name: count, dtype: int64"
      ]
     },
     "execution_count": 6,
     "metadata": {},
     "output_type": "execute_result"
    }
   ],
   "source": [
    "df['target'].value_counts()"
   ]
  },
  {
   "cell_type": "markdown",
   "metadata": {},
   "source": [
    "La relacion entre clases es 157/343 = 0.46 siendo la mayoritaria la clase representada por el 0 por lo que estamos ante un dataset desbalanceado"
   ]
  },
  {
   "cell_type": "markdown",
   "metadata": {},
   "source": [
    "A priori hacer un split 400 100 para desarrollo validacion suena razonable , estamos dejando 20% de nuestro dataset para validar.\n",
    "\n",
    "Capaz es un poco mucho ese porcentaje pero creo que eso aseguraria que los resultados obtenidos tendran un poco mas de robustez.\n",
    "\n",
    "Dentro de desarrollo capaz podemos hacer algo como k folds con k = 4 para sacarle un poco mas el jugo a los datos.\n",
    "\n",
    "train = 80%\n",
    "validacion = 20%"
   ]
  },
  {
   "cell_type": "code",
   "execution_count": 7,
   "metadata": {},
   "outputs": [],
   "source": [
    "def train_test_split(df,train_size=0.8):\n",
    "    df = df.sample(frac=1, random_state=42).reset_index(drop=True)\n",
    "    n = df.shape[0]\n",
    "    cantNeg, cantPos = df['target'].value_counts()\n",
    "    proporcion = cantPos / n\n",
    "\n",
    "    cant_en_train = int(n*train_size)\n",
    "    cant_en_validacion = n - cant_en_train\n",
    "    \n",
    "    res = []\n",
    "    cant_positivas = int(proporcion * cant_en_validacion)\n",
    "    cant_negativas = cant_en_validacion - cant_positivas\n",
    "\n",
    "    contador_positivos, contador_negativos = 0, 0\n",
    "    for index, value in enumerate(df['target']):\n",
    "        if value == 0:\n",
    "            contador_negativos += 1\n",
    "            res.append(index)\n",
    "        \n",
    "        if contador_negativos == cant_negativas:\n",
    "            break\n",
    "    for index, value in enumerate(df['target']):\n",
    "\n",
    "        if value == 1:\n",
    "            contador_positivos += 1\n",
    "            res.append(index)\n",
    "        \n",
    "        if contador_positivos == cant_positivas:\n",
    "            break\n",
    "    \n",
    "    df_dev = df.loc[~df.index.isin(res)].reset_index(drop=True)\n",
    "    df_val = df.loc[res].reset_index(drop=True)\n",
    "    return df_dev,df_val"
   ]
  },
  {
   "cell_type": "code",
   "execution_count": 8,
   "metadata": {},
   "outputs": [],
   "source": [
    "df_dev , df_val =  train_test_split(df)\n"
   ]
  },
  {
   "cell_type": "markdown",
   "metadata": {},
   "source": [
    "# Ejercicio 2"
   ]
  },
  {
   "cell_type": "code",
   "execution_count": 52,
   "metadata": {},
   "outputs": [],
   "source": [
    "from sklearn.tree import DecisionTreeClassifier\n",
    "from sklearn.model_selection import KFold\n",
    "from sklearn.model_selection import cross_val_score\n",
    "from sklearn.metrics import classification_report\n",
    "from sklearn.model_selection import StratifiedKFold\n",
    "from sklearn.model_selection import cross_validate\n",
    "from sklearn.metrics import accuracy_score, roc_auc_score , average_precision_score\n",
    "from sklearn.model_selection import cross_val_predict\n"
   ]
  },
  {
   "cell_type": "code",
   "execution_count": 10,
   "metadata": {},
   "outputs": [],
   "source": [
    "X_train = df_dev.drop(columns=['target']).values\n",
    "\n",
    "y_train = df_dev['target'].values\n",
    "\n",
    "X_val   = df_val.drop(columns=['target']).values\n",
    "\n",
    "y_val   =  df_val['target'].values"
   ]
  },
  {
   "cell_type": "code",
   "execution_count": 11,
   "metadata": {},
   "outputs": [
    {
     "data": {
      "text/html": [
       "<style>#sk-container-id-1 {color: black;}#sk-container-id-1 pre{padding: 0;}#sk-container-id-1 div.sk-toggleable {background-color: white;}#sk-container-id-1 label.sk-toggleable__label {cursor: pointer;display: block;width: 100%;margin-bottom: 0;padding: 0.3em;box-sizing: border-box;text-align: center;}#sk-container-id-1 label.sk-toggleable__label-arrow:before {content: \"▸\";float: left;margin-right: 0.25em;color: #696969;}#sk-container-id-1 label.sk-toggleable__label-arrow:hover:before {color: black;}#sk-container-id-1 div.sk-estimator:hover label.sk-toggleable__label-arrow:before {color: black;}#sk-container-id-1 div.sk-toggleable__content {max-height: 0;max-width: 0;overflow: hidden;text-align: left;background-color: #f0f8ff;}#sk-container-id-1 div.sk-toggleable__content pre {margin: 0.2em;color: black;border-radius: 0.25em;background-color: #f0f8ff;}#sk-container-id-1 input.sk-toggleable__control:checked~div.sk-toggleable__content {max-height: 200px;max-width: 100%;overflow: auto;}#sk-container-id-1 input.sk-toggleable__control:checked~label.sk-toggleable__label-arrow:before {content: \"▾\";}#sk-container-id-1 div.sk-estimator input.sk-toggleable__control:checked~label.sk-toggleable__label {background-color: #d4ebff;}#sk-container-id-1 div.sk-label input.sk-toggleable__control:checked~label.sk-toggleable__label {background-color: #d4ebff;}#sk-container-id-1 input.sk-hidden--visually {border: 0;clip: rect(1px 1px 1px 1px);clip: rect(1px, 1px, 1px, 1px);height: 1px;margin: -1px;overflow: hidden;padding: 0;position: absolute;width: 1px;}#sk-container-id-1 div.sk-estimator {font-family: monospace;background-color: #f0f8ff;border: 1px dotted black;border-radius: 0.25em;box-sizing: border-box;margin-bottom: 0.5em;}#sk-container-id-1 div.sk-estimator:hover {background-color: #d4ebff;}#sk-container-id-1 div.sk-parallel-item::after {content: \"\";width: 100%;border-bottom: 1px solid gray;flex-grow: 1;}#sk-container-id-1 div.sk-label:hover label.sk-toggleable__label {background-color: #d4ebff;}#sk-container-id-1 div.sk-serial::before {content: \"\";position: absolute;border-left: 1px solid gray;box-sizing: border-box;top: 0;bottom: 0;left: 50%;z-index: 0;}#sk-container-id-1 div.sk-serial {display: flex;flex-direction: column;align-items: center;background-color: white;padding-right: 0.2em;padding-left: 0.2em;position: relative;}#sk-container-id-1 div.sk-item {position: relative;z-index: 1;}#sk-container-id-1 div.sk-parallel {display: flex;align-items: stretch;justify-content: center;background-color: white;position: relative;}#sk-container-id-1 div.sk-item::before, #sk-container-id-1 div.sk-parallel-item::before {content: \"\";position: absolute;border-left: 1px solid gray;box-sizing: border-box;top: 0;bottom: 0;left: 50%;z-index: -1;}#sk-container-id-1 div.sk-parallel-item {display: flex;flex-direction: column;z-index: 1;position: relative;background-color: white;}#sk-container-id-1 div.sk-parallel-item:first-child::after {align-self: flex-end;width: 50%;}#sk-container-id-1 div.sk-parallel-item:last-child::after {align-self: flex-start;width: 50%;}#sk-container-id-1 div.sk-parallel-item:only-child::after {width: 0;}#sk-container-id-1 div.sk-dashed-wrapped {border: 1px dashed gray;margin: 0 0.4em 0.5em 0.4em;box-sizing: border-box;padding-bottom: 0.4em;background-color: white;}#sk-container-id-1 div.sk-label label {font-family: monospace;font-weight: bold;display: inline-block;line-height: 1.2em;}#sk-container-id-1 div.sk-label-container {text-align: center;}#sk-container-id-1 div.sk-container {/* jupyter's `normalize.less` sets `[hidden] { display: none; }` but bootstrap.min.css set `[hidden] { display: none !important; }` so we also need the `!important` here to be able to override the default hidden behavior on the sphinx rendered scikit-learn.org. See: https://github.com/scikit-learn/scikit-learn/issues/21755 */display: inline-block !important;position: relative;}#sk-container-id-1 div.sk-text-repr-fallback {display: none;}</style><div id=\"sk-container-id-1\" class=\"sk-top-container\"><div class=\"sk-text-repr-fallback\"><pre>DecisionTreeClassifier(max_depth=3, random_state=51)</pre><b>In a Jupyter environment, please rerun this cell to show the HTML representation or trust the notebook. <br />On GitHub, the HTML representation is unable to render, please try loading this page with nbviewer.org.</b></div><div class=\"sk-container\" hidden><div class=\"sk-item\"><div class=\"sk-estimator sk-toggleable\"><input class=\"sk-toggleable__control sk-hidden--visually\" id=\"sk-estimator-id-1\" type=\"checkbox\" checked><label for=\"sk-estimator-id-1\" class=\"sk-toggleable__label sk-toggleable__label-arrow\">DecisionTreeClassifier</label><div class=\"sk-toggleable__content\"><pre>DecisionTreeClassifier(max_depth=3, random_state=51)</pre></div></div></div></div></div>"
      ],
      "text/plain": [
       "DecisionTreeClassifier(max_depth=3, random_state=51)"
      ]
     },
     "execution_count": 11,
     "metadata": {},
     "output_type": "execute_result"
    }
   ],
   "source": [
    "tree_clf = DecisionTreeClassifier(max_depth=3, random_state=51)\n",
    "tree_clf.fit(X_train, y_train)"
   ]
  },
  {
   "cell_type": "code",
   "execution_count": 54,
   "metadata": {},
   "outputs": [],
   "source": [
    "\n",
    "scoring = ['accuracy', 'roc_auc', 'average_precision']\n",
    "\n",
    "skf = StratifiedKFold(n_splits=5)\n",
    "\n",
    "cv_results = cross_validate(tree_clf, X_train, y_train, cv = skf, scoring = scoring,return_train_score = True)\n",
    "\n",
    "predicted_labels = cross_val_predict(tree_clf, X_train, y_train, cv = skf)\n",
    "\n",
    "metricas_globales = {'Accuracy Global' : accuracy_score(y_train, predicted_labels),\n",
    "                     'Auc Global' : roc_auc_score(y_train, predicted_labels),\n",
    "                      'Average Precision Global' : average_precision_score(y_train, predicted_labels)\n",
    "}\n",
    "\n",
    "cv_results.update(metricas_globales)\n",
    "\n",
    "df_resultados_ej_2_2 = pd.DataFrame({key: cv_results[key] for key in list(cv_results.keys())[3:]})\n",
    "\n",
    "df_resultados_ej_2_2.index = df_resultados_ej_2_2.index + 1 # asi el indice del df se correponde con el k\n"
   ]
  },
  {
   "cell_type": "code",
   "execution_count": 65,
   "metadata": {},
   "outputs": [
    {
     "data": {
      "text/html": [
       "<div>\n",
       "<style scoped>\n",
       "    .dataframe tbody tr th:only-of-type {\n",
       "        vertical-align: middle;\n",
       "    }\n",
       "\n",
       "    .dataframe tbody tr th {\n",
       "        vertical-align: top;\n",
       "    }\n",
       "\n",
       "    .dataframe thead th {\n",
       "        text-align: right;\n",
       "    }\n",
       "</style>\n",
       "<table border=\"1\" class=\"dataframe\">\n",
       "  <thead>\n",
       "    <tr style=\"text-align: right;\">\n",
       "      <th></th>\n",
       "      <th>test_accuracy</th>\n",
       "      <th>train_accuracy</th>\n",
       "      <th>test_roc_auc</th>\n",
       "      <th>train_roc_auc</th>\n",
       "      <th>test_average_precision</th>\n",
       "      <th>train_average_precision</th>\n",
       "      <th>Accuracy Global</th>\n",
       "      <th>Auc Global</th>\n",
       "      <th>Average Precision Global</th>\n",
       "    </tr>\n",
       "  </thead>\n",
       "  <tbody>\n",
       "    <tr>\n",
       "      <th>1</th>\n",
       "      <td>0.6500</td>\n",
       "      <td>0.834375</td>\n",
       "      <td>0.585470</td>\n",
       "      <td>0.770614</td>\n",
       "      <td>0.432637</td>\n",
       "      <td>0.656625</td>\n",
       "      <td>0.695</td>\n",
       "      <td>0.599467</td>\n",
       "      <td>0.386459</td>\n",
       "    </tr>\n",
       "    <tr>\n",
       "      <th>2</th>\n",
       "      <td>0.7000</td>\n",
       "      <td>0.818750</td>\n",
       "      <td>0.732000</td>\n",
       "      <td>0.852706</td>\n",
       "      <td>0.484188</td>\n",
       "      <td>0.713912</td>\n",
       "      <td>0.695</td>\n",
       "      <td>0.599467</td>\n",
       "      <td>0.386459</td>\n",
       "    </tr>\n",
       "    <tr>\n",
       "      <th>3</th>\n",
       "      <td>0.6750</td>\n",
       "      <td>0.825000</td>\n",
       "      <td>0.613455</td>\n",
       "      <td>0.796826</td>\n",
       "      <td>0.404476</td>\n",
       "      <td>0.657074</td>\n",
       "      <td>0.695</td>\n",
       "      <td>0.599467</td>\n",
       "      <td>0.386459</td>\n",
       "    </tr>\n",
       "    <tr>\n",
       "      <th>4</th>\n",
       "      <td>0.6875</td>\n",
       "      <td>0.809375</td>\n",
       "      <td>0.596000</td>\n",
       "      <td>0.854492</td>\n",
       "      <td>0.394547</td>\n",
       "      <td>0.713593</td>\n",
       "      <td>0.695</td>\n",
       "      <td>0.599467</td>\n",
       "      <td>0.386459</td>\n",
       "    </tr>\n",
       "    <tr>\n",
       "      <th>5</th>\n",
       "      <td>0.7625</td>\n",
       "      <td>0.837500</td>\n",
       "      <td>0.705455</td>\n",
       "      <td>0.836928</td>\n",
       "      <td>0.516564</td>\n",
       "      <td>0.733381</td>\n",
       "      <td>0.695</td>\n",
       "      <td>0.599467</td>\n",
       "      <td>0.386459</td>\n",
       "    </tr>\n",
       "  </tbody>\n",
       "</table>\n",
       "</div>"
      ],
      "text/plain": [
       "   test_accuracy  train_accuracy  test_roc_auc  train_roc_auc  \\\n",
       "1         0.6500        0.834375      0.585470       0.770614   \n",
       "2         0.7000        0.818750      0.732000       0.852706   \n",
       "3         0.6750        0.825000      0.613455       0.796826   \n",
       "4         0.6875        0.809375      0.596000       0.854492   \n",
       "5         0.7625        0.837500      0.705455       0.836928   \n",
       "\n",
       "   test_average_precision  train_average_precision  Accuracy Global  \\\n",
       "1                0.432637                 0.656625            0.695   \n",
       "2                0.484188                 0.713912            0.695   \n",
       "3                0.404476                 0.657074            0.695   \n",
       "4                0.394547                 0.713593            0.695   \n",
       "5                0.516564                 0.733381            0.695   \n",
       "\n",
       "   Auc Global  Average Precision Global  \n",
       "1    0.599467                  0.386459  \n",
       "2    0.599467                  0.386459  \n",
       "3    0.599467                  0.386459  \n",
       "4    0.599467                  0.386459  \n",
       "5    0.599467                  0.386459  "
      ]
     },
     "execution_count": 65,
     "metadata": {},
     "output_type": "execute_result"
    }
   ],
   "source": [
    "df_resultados_ej_2_2"
   ]
  },
  {
   "cell_type": "code",
   "execution_count": 69,
   "metadata": {},
   "outputs": [
    {
     "data": {
      "text/plain": [
       "dict_keys(['fit_time', 'score_time', 'indices', 'test_accuracy', 'train_accuracy', 'test_roc_auc', 'train_roc_auc', 'test_average_precision', 'train_average_precision', 'Accuracy Global', 'Auc Global', 'Average Precision Global'])"
      ]
     },
     "execution_count": 69,
     "metadata": {},
     "output_type": "execute_result"
    }
   ],
   "source": [
    "cv_results.keys()"
   ]
  },
  {
   "cell_type": "markdown",
   "metadata": {},
   "source": [
    "Basado en pagina 288 de Introduction to Machine Learning with Python"
   ]
  },
  {
   "cell_type": "code",
   "execution_count": 72,
   "metadata": {},
   "outputs": [],
   "source": [
    "alturas = [3, 5, None]\n",
    "criterios = [\"gini\", \"entropy\"]\n",
    "\n",
    "resultados = {}\n",
    "\n",
    "for altura in alturas:\n",
    "    for criterio in criterios:\n",
    "        \n",
    "        tree = DecisionTreeClassifier(max_depth = altura, criterion = criterio, random_state = 51)\n",
    "                \n",
    "        cv_results_grid = cross_validate(tree, X_train, y_train, cv = skf, scoring = 'accuracy', return_train_score = True)\n",
    "        \n",
    "        accuracy_train = cv_results_grid['train_score'].mean()\n",
    "\n",
    "        accuracy_test =  cv_results_grid['test_score'].mean()\n",
    "\n",
    "        \n",
    "        \n",
    "        resultados[(altura, criterio)] = (accuracy_train,accuracy_test)\n",
    "\n",
    "results_df = pd.DataFrame(resultados.values(), index=resultados.keys(), columns=['Train Score', 'Test Score'])\n",
    "\n"
   ]
  },
  {
   "cell_type": "code",
   "execution_count": 61,
   "metadata": {},
   "outputs": [
    {
     "data": {
      "text/html": [
       "<div>\n",
       "<style scoped>\n",
       "    .dataframe tbody tr th:only-of-type {\n",
       "        vertical-align: middle;\n",
       "    }\n",
       "\n",
       "    .dataframe tbody tr th {\n",
       "        vertical-align: top;\n",
       "    }\n",
       "\n",
       "    .dataframe thead th {\n",
       "        text-align: right;\n",
       "    }\n",
       "</style>\n",
       "<table border=\"1\" class=\"dataframe\">\n",
       "  <thead>\n",
       "    <tr style=\"text-align: right;\">\n",
       "      <th></th>\n",
       "      <th></th>\n",
       "      <th>Train Score</th>\n",
       "      <th>Test Score</th>\n",
       "    </tr>\n",
       "  </thead>\n",
       "  <tbody>\n",
       "    <tr>\n",
       "      <th rowspan=\"2\" valign=\"top\">3</th>\n",
       "      <th>gini</th>\n",
       "      <td>0.661111</td>\n",
       "      <td>0.633333</td>\n",
       "    </tr>\n",
       "    <tr>\n",
       "      <th>entropy</th>\n",
       "      <td>0.638889</td>\n",
       "      <td>0.755556</td>\n",
       "    </tr>\n",
       "    <tr>\n",
       "      <th rowspan=\"2\" valign=\"top\">5</th>\n",
       "      <th>gini</th>\n",
       "      <td>0.644444</td>\n",
       "      <td>0.600000</td>\n",
       "    </tr>\n",
       "    <tr>\n",
       "      <th>entropy</th>\n",
       "      <td>0.650000</td>\n",
       "      <td>0.700000</td>\n",
       "    </tr>\n",
       "    <tr>\n",
       "      <th rowspan=\"2\" valign=\"top\">NaN</th>\n",
       "      <th>gini</th>\n",
       "      <td>0.630556</td>\n",
       "      <td>0.577778</td>\n",
       "    </tr>\n",
       "    <tr>\n",
       "      <th>entropy</th>\n",
       "      <td>0.652778</td>\n",
       "      <td>0.700000</td>\n",
       "    </tr>\n",
       "  </tbody>\n",
       "</table>\n",
       "</div>"
      ],
      "text/plain": [
       "             Train Score  Test Score\n",
       "3   gini        0.661111    0.633333\n",
       "    entropy     0.638889    0.755556\n",
       "5   gini        0.644444    0.600000\n",
       "    entropy     0.650000    0.700000\n",
       "NaN gini        0.630556    0.577778\n",
       "    entropy     0.652778    0.700000"
      ]
     },
     "execution_count": 61,
     "metadata": {},
     "output_type": "execute_result"
    }
   ],
   "source": [
    "results_df"
   ]
  },
  {
   "cell_type": "markdown",
   "metadata": {},
   "source": [
    "# Ejercicio 3"
   ]
  },
  {
   "cell_type": "code",
   "execution_count": 64,
   "metadata": {},
   "outputs": [
    {
     "name": "stdout",
     "output_type": "stream",
     "text": [
      "Best Model: DecisionTreeClassifier(min_samples_split=5)\n",
      "Best AUCROC Score: 0.636304347826087\n"
     ]
    }
   ],
   "source": [
    "from sklearn.model_selection import RandomizedSearchCV\n",
    "from sklearn.tree import DecisionTreeClassifier\n",
    "\n",
    "# Define the hyperparameter grid\n",
    "param_grid = {\n",
    "    'criterion': ['gini', 'entropy'],\n",
    "    'max_depth': [3, 5, None],\n",
    "    'min_samples_split': [2, 5, 10],\n",
    "    'min_samples_leaf': [1, 2, 4],\n",
    "    #'max_features': ['auto', 'sqrt', 'log2', None]\n",
    "}\n",
    "\n",
    "# Create the Decision Tree classifier\n",
    "tree = DecisionTreeClassifier()\n",
    "\n",
    "# Create the RandomizedSearchCV object\n",
    "random_search = RandomizedSearchCV(estimator=tree, param_distributions=param_grid, scoring='roc_auc', cv=5)\n",
    "\n",
    "# Fit the RandomizedSearchCV object to the data\n",
    "random_search.fit(X_train, y_train)\n",
    "\n",
    "# Get the best model and its performance\n",
    "best_model = random_search.best_estimator_\n",
    "best_score = random_search.best_score_\n",
    "\n",
    "# Print the best model and its performance\n",
    "print(\"Best Model:\", best_model)\n",
    "print(\"Best AUCROC Score:\", best_score)"
   ]
  },
  {
   "cell_type": "code",
   "execution_count": 66,
   "metadata": {},
   "outputs": [
    {
     "data": {
      "text/plain": [
       "{'Decision Tree': 0.7, 'KNN': 0.8}"
      ]
     },
     "execution_count": 66,
     "metadata": {},
     "output_type": "execute_result"
    }
   ],
   "source": [
    "from sklearn.neighbors import KNeighborsClassifier\n",
    "\n",
    "# Create KNN classifier\n",
    "knn = KNeighborsClassifier(n_neighbors=3)\n",
    "\n",
    "# Train the model using the development data\n",
    "knn.fit(X_train, y_train)\n",
    "\n",
    "# Predict the target variable for the test data\n",
    "y_pred_knn = knn.predict(X_test)\n",
    "\n",
    "# Calculate the accuracy score for KNN\n",
    "accuracy_knn = accuracy_score(y_test, y_pred_knn)\n",
    "\n",
    "# Compare the accuracy scores of Decision Tree and KNN\n",
    "comparison = {'Decision Tree': accuracy_test, 'KNN': accuracy_knn}\n",
    "comparison\n"
   ]
  }
 ],
 "metadata": {
  "kernelspec": {
   "display_name": "APRENDIZAJE_SUPERVISADO",
   "language": "python",
   "name": "python3"
  },
  "language_info": {
   "codemirror_mode": {
    "name": "ipython",
    "version": 3
   },
   "file_extension": ".py",
   "mimetype": "text/x-python",
   "name": "python",
   "nbconvert_exporter": "python",
   "pygments_lexer": "ipython3",
   "version": "3.11.5"
  }
 },
 "nbformat": 4,
 "nbformat_minor": 2
}
