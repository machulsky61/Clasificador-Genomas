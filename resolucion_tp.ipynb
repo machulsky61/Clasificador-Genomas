{
  "cells": [
    {
      "cell_type": "code",
      "execution_count": 1,
      "metadata": {
        "id": "U3Le1wouyhC5"
      },
      "outputs": [],
      "source": [
        "import numpy as np\n",
        "import seaborn as sns\n",
        "import pandas as pd\n",
        "import matplotlib.pyplot as plt\n"
      ]
    },
    {
      "cell_type": "code",
      "execution_count": 2,
      "metadata": {
        "id": "Yg9FjoWTyhC9"
      },
      "outputs": [],
      "source": [
        "%matplotlib inline\n",
        "import matplotlib as mpl\n",
        "import matplotlib.pyplot as plt\n",
        "mpl.rc('axes', labelsize=14)\n",
        "mpl.rc('xtick', labelsize=12)\n",
        "mpl.rc('ytick', labelsize=12)\n",
        "import os\n",
        "\n",
        "# Asignar la ruta donde deseas guardar las imágenes\n",
        "PROJECT_ROOT_DIR = r\"C:\\Users\\ezequ\\OneDrive\\Documentos\\Facultad\\Optimizacion\\tp1\"\n",
        "CHAPTER_ID = \"imagenes\"  # El nombre de la capeta donde voy a guardar las imagenes\n",
        "\n",
        "# Crear la ruta completa donde se guardarán las imágenes\n",
        "IMAGES_PATH = os.path.join(PROJECT_ROOT_DIR, CHAPTER_ID)\n",
        "os.makedirs(IMAGES_PATH, exist_ok=True)\n",
        "\n"
      ]
    },
    {
      "cell_type": "code",
      "execution_count": 3,
      "metadata": {
        "id": "E0WLtaaSyhC-"
      },
      "outputs": [],
      "source": [
        "#path = r'C:\\Users\\ezequ\\OneDrive\\Documentos\\Facultad\\Aprendizaje Automatico\\material-main\\tp\\01_aprendizaje_supervisado\\datos\\data.csv'\n",
        "#df = pd.read_csv(path)\n",
        "df = pd.read_csv('data.csv')"
      ]
    },
    {
      "cell_type": "code",
      "execution_count": 4,
      "metadata": {
        "colab": {
          "base_uri": "https://localhost:8080/"
        },
        "id": "Sg_iL99_yhC_",
        "outputId": "a5438e1a-a339-4ef9-ee53-dc3567e0a731"
      },
      "outputs": [
        {
          "output_type": "execute_result",
          "data": {
            "text/plain": [
              "target\n",
              "0    343\n",
              "1    157\n",
              "Name: count, dtype: int64"
            ]
          },
          "metadata": {},
          "execution_count": 4
        }
      ],
      "source": [
        "df['target'].value_counts()"
      ]
    },
    {
      "cell_type": "markdown",
      "metadata": {
        "id": "S7SxsPeMyhDB"
      },
      "source": [
        "La relacion entre clases es 157/343 = 0.46 siendo la mayoritaria la clase representada por el 0 por lo que estamos ante un dataset desbalanceado"
      ]
    },
    {
      "cell_type": "markdown",
      "metadata": {
        "id": "xu_e4yFTyhDD"
      },
      "source": [
        "A priori hacer un split 400 100 para desarrollo validacion suena razonable , estamos dejando 20% de nuestro dataset para validar.\n",
        "\n",
        "Capaz es un poco mucho ese porcentaje pero creo que eso aseguraria que los resultados obtenidos tendran un poco mas de robustez.\n",
        "\n",
        "Dentro de desarrollo capaz podemos hacer algo como k folds con k = 4 para sacarle un poco mas el jugo a los datos.\n",
        "\n",
        "train = 80%\n",
        "validacion = 20%"
      ]
    },
    {
      "cell_type": "code",
      "execution_count": 5,
      "metadata": {
        "id": "zz08kA2uyhDE"
      },
      "outputs": [],
      "source": [
        "def train_test_split(df,train_size=0.8):\n",
        "    df = df.sample(frac=1, random_state=42).reset_index(drop=True)\n",
        "    n = df.shape[0]\n",
        "    cantNeg, cantPos = df['target'].value_counts()\n",
        "    proporcion = cantPos / n\n",
        "\n",
        "    cant_en_train = int(n*train_size)\n",
        "    cant_en_validacion = n - cant_en_train\n",
        "\n",
        "    res = []\n",
        "    cant_positivas = int(proporcion * cant_en_validacion)\n",
        "    cant_negativas = cant_en_validacion - cant_positivas\n",
        "\n",
        "    contador_positivos, contador_negativos = 0, 0\n",
        "    for index, value in enumerate(df['target']):\n",
        "        if value == 0:\n",
        "            contador_negativos += 1\n",
        "            res.append(index)\n",
        "\n",
        "        if contador_negativos == cant_negativas:\n",
        "            break\n",
        "    for index, value in enumerate(df['target']):\n",
        "\n",
        "        if value == 1:\n",
        "            contador_positivos += 1\n",
        "            res.append(index)\n",
        "\n",
        "        if contador_positivos == cant_positivas:\n",
        "            break\n",
        "\n",
        "    df_dev = df.loc[~df.index.isin(res)].reset_index(drop=True)\n",
        "    df_val = df.loc[res].reset_index(drop=True)\n",
        "    return df_dev,df_val"
      ]
    },
    {
      "cell_type": "code",
      "execution_count": 6,
      "metadata": {
        "id": "MlL1P_9IyhDF"
      },
      "outputs": [],
      "source": [
        "df_dev , df_val =  train_test_split(df)\n",
        "df_train, df_test = train_test_split(df_dev)"
      ]
    },
    {
      "cell_type": "code",
      "source": [
        "pd.value_counts(df_test['target'])"
      ],
      "metadata": {
        "colab": {
          "base_uri": "https://localhost:8080/"
        },
        "id": "7qIfqt225s-j",
        "outputId": "08154959-2bbb-4a73-ca0e-f0b0f5131ae6"
      },
      "execution_count": 7,
      "outputs": [
        {
          "output_type": "execute_result",
          "data": {
            "text/plain": [
              "target\n",
              "0    55\n",
              "1    25\n",
              "Name: count, dtype: int64"
            ]
          },
          "metadata": {},
          "execution_count": 7
        }
      ]
    },
    {
      "cell_type": "markdown",
      "metadata": {
        "id": "aUkg3C4zyhDF"
      },
      "source": [
        "# Ejercicio 2"
      ]
    },
    {
      "cell_type": "code",
      "execution_count": 8,
      "metadata": {
        "id": "9lWY0qbPyhDG"
      },
      "outputs": [],
      "source": [
        "from sklearn.tree import DecisionTreeClassifier\n",
        "from sklearn.model_selection import KFold\n",
        "from sklearn.model_selection import cross_val_score\n",
        "from sklearn.metrics import classification_report\n",
        "from sklearn.model_selection import StratifiedKFold\n",
        "from sklearn.model_selection import cross_validate\n",
        "from sklearn.metrics import accuracy_score, roc_auc_score , average_precision_score"
      ]
    },
    {
      "cell_type": "code",
      "execution_count": 9,
      "metadata": {
        "id": "Vhz4XHCXyhDG"
      },
      "outputs": [],
      "source": [
        "X_train = df_train.drop(columns=['target']).values\n",
        "\n",
        "y_train = df_train['target'].values\n",
        "\n",
        "X_test  = df_test.drop(columns=['target']).values\n",
        "\n",
        "y_test  = df_test['target'].values\n",
        "\n",
        "X_val   = df_val.drop(columns=['target']).values\n",
        "\n",
        "y_val   =  df_val['target'].values"
      ]
    },
    {
      "cell_type": "code",
      "execution_count": 10,
      "metadata": {
        "colab": {
          "base_uri": "https://localhost:8080/",
          "height": 75
        },
        "id": "7S9bI3agyhDG",
        "outputId": "f9065053-2f61-437e-c8e2-adc25ebcc304"
      },
      "outputs": [
        {
          "output_type": "execute_result",
          "data": {
            "text/plain": [
              "DecisionTreeClassifier(max_depth=3, random_state=51)"
            ],
            "text/html": [
              "<style>#sk-container-id-1 {color: black;background-color: white;}#sk-container-id-1 pre{padding: 0;}#sk-container-id-1 div.sk-toggleable {background-color: white;}#sk-container-id-1 label.sk-toggleable__label {cursor: pointer;display: block;width: 100%;margin-bottom: 0;padding: 0.3em;box-sizing: border-box;text-align: center;}#sk-container-id-1 label.sk-toggleable__label-arrow:before {content: \"▸\";float: left;margin-right: 0.25em;color: #696969;}#sk-container-id-1 label.sk-toggleable__label-arrow:hover:before {color: black;}#sk-container-id-1 div.sk-estimator:hover label.sk-toggleable__label-arrow:before {color: black;}#sk-container-id-1 div.sk-toggleable__content {max-height: 0;max-width: 0;overflow: hidden;text-align: left;background-color: #f0f8ff;}#sk-container-id-1 div.sk-toggleable__content pre {margin: 0.2em;color: black;border-radius: 0.25em;background-color: #f0f8ff;}#sk-container-id-1 input.sk-toggleable__control:checked~div.sk-toggleable__content {max-height: 200px;max-width: 100%;overflow: auto;}#sk-container-id-1 input.sk-toggleable__control:checked~label.sk-toggleable__label-arrow:before {content: \"▾\";}#sk-container-id-1 div.sk-estimator input.sk-toggleable__control:checked~label.sk-toggleable__label {background-color: #d4ebff;}#sk-container-id-1 div.sk-label input.sk-toggleable__control:checked~label.sk-toggleable__label {background-color: #d4ebff;}#sk-container-id-1 input.sk-hidden--visually {border: 0;clip: rect(1px 1px 1px 1px);clip: rect(1px, 1px, 1px, 1px);height: 1px;margin: -1px;overflow: hidden;padding: 0;position: absolute;width: 1px;}#sk-container-id-1 div.sk-estimator {font-family: monospace;background-color: #f0f8ff;border: 1px dotted black;border-radius: 0.25em;box-sizing: border-box;margin-bottom: 0.5em;}#sk-container-id-1 div.sk-estimator:hover {background-color: #d4ebff;}#sk-container-id-1 div.sk-parallel-item::after {content: \"\";width: 100%;border-bottom: 1px solid gray;flex-grow: 1;}#sk-container-id-1 div.sk-label:hover label.sk-toggleable__label {background-color: #d4ebff;}#sk-container-id-1 div.sk-serial::before {content: \"\";position: absolute;border-left: 1px solid gray;box-sizing: border-box;top: 0;bottom: 0;left: 50%;z-index: 0;}#sk-container-id-1 div.sk-serial {display: flex;flex-direction: column;align-items: center;background-color: white;padding-right: 0.2em;padding-left: 0.2em;position: relative;}#sk-container-id-1 div.sk-item {position: relative;z-index: 1;}#sk-container-id-1 div.sk-parallel {display: flex;align-items: stretch;justify-content: center;background-color: white;position: relative;}#sk-container-id-1 div.sk-item::before, #sk-container-id-1 div.sk-parallel-item::before {content: \"\";position: absolute;border-left: 1px solid gray;box-sizing: border-box;top: 0;bottom: 0;left: 50%;z-index: -1;}#sk-container-id-1 div.sk-parallel-item {display: flex;flex-direction: column;z-index: 1;position: relative;background-color: white;}#sk-container-id-1 div.sk-parallel-item:first-child::after {align-self: flex-end;width: 50%;}#sk-container-id-1 div.sk-parallel-item:last-child::after {align-self: flex-start;width: 50%;}#sk-container-id-1 div.sk-parallel-item:only-child::after {width: 0;}#sk-container-id-1 div.sk-dashed-wrapped {border: 1px dashed gray;margin: 0 0.4em 0.5em 0.4em;box-sizing: border-box;padding-bottom: 0.4em;background-color: white;}#sk-container-id-1 div.sk-label label {font-family: monospace;font-weight: bold;display: inline-block;line-height: 1.2em;}#sk-container-id-1 div.sk-label-container {text-align: center;}#sk-container-id-1 div.sk-container {/* jupyter's `normalize.less` sets `[hidden] { display: none; }` but bootstrap.min.css set `[hidden] { display: none !important; }` so we also need the `!important` here to be able to override the default hidden behavior on the sphinx rendered scikit-learn.org. See: https://github.com/scikit-learn/scikit-learn/issues/21755 */display: inline-block !important;position: relative;}#sk-container-id-1 div.sk-text-repr-fallback {display: none;}</style><div id=\"sk-container-id-1\" class=\"sk-top-container\"><div class=\"sk-text-repr-fallback\"><pre>DecisionTreeClassifier(max_depth=3, random_state=51)</pre><b>In a Jupyter environment, please rerun this cell to show the HTML representation or trust the notebook. <br />On GitHub, the HTML representation is unable to render, please try loading this page with nbviewer.org.</b></div><div class=\"sk-container\" hidden><div class=\"sk-item\"><div class=\"sk-estimator sk-toggleable\"><input class=\"sk-toggleable__control sk-hidden--visually\" id=\"sk-estimator-id-1\" type=\"checkbox\" checked><label for=\"sk-estimator-id-1\" class=\"sk-toggleable__label sk-toggleable__label-arrow\">DecisionTreeClassifier</label><div class=\"sk-toggleable__content\"><pre>DecisionTreeClassifier(max_depth=3, random_state=51)</pre></div></div></div></div></div>"
            ]
          },
          "metadata": {},
          "execution_count": 10
        }
      ],
      "source": [
        "tree_clf = DecisionTreeClassifier(max_depth=3, random_state=51)\n",
        "tree_clf.fit(X_train, y_train)"
      ]
    },
    {
      "cell_type": "code",
      "execution_count": 11,
      "metadata": {
        "colab": {
          "base_uri": "https://localhost:8080/"
        },
        "id": "V-P-yTZPyhDH",
        "outputId": "217748bf-4974-474e-d2e4-ea1aaee7f4da"
      },
      "outputs": [
        {
          "output_type": "stream",
          "name": "stdout",
          "text": [
            "Cross-validation results in Train:\n",
            "Accuracy: [0.609 0.609 0.625 0.734 0.656]\n",
            "Promedio de Accuracy:  0.647\n",
            "\n",
            "\n",
            "Roc_auc: [0.637 0.632 0.526 0.741 0.505]\n",
            "Promedio de Roc_auc:  0.608\n",
            "\n",
            "\n",
            "Average_precision: [0.416 0.471 0.327 0.553 0.331]\n",
            "Promedio de Average_precision:  0.42\n",
            "\n",
            "\n",
            "--------------------------------------------------------\n",
            "Cross-validation results in Test:\n",
            "Accuracy: [0.625 0.812 0.5   0.938 0.812]\n",
            "Promedio de Accuracy:  0.738\n",
            "\n",
            "\n",
            "Roc_auc: [0.527 0.745 0.527 0.955 0.727]\n",
            "Promedio de Roc_auc:  0.696\n",
            "\n",
            "\n",
            "Average_precision: [0.348 0.542 0.325 0.833 0.575]\n",
            "Promedio de Average_precision:  0.524\n",
            "\n",
            "\n"
          ]
        }
      ],
      "source": [
        "scoring = ['accuracy', 'roc_auc', 'average_precision']\n",
        "skf = StratifiedKFold(n_splits=5)\n",
        "\n",
        "cv_results_train = cross_validate(tree_clf, X_train, y_train, cv = skf, scoring = scoring)\n",
        "\n",
        "print(\"Cross-validation results in Train:\")\n",
        "for metric in scoring:\n",
        "    print(f\"{metric.capitalize()}: {cv_results_train[f'test_{metric}'].round(3)}\")\n",
        "    print(f\"Promedio de {metric.capitalize()}:  {cv_results_train[f'test_{metric}'].mean().round(3)}\")\n",
        "    print('\\n')\n",
        "\n",
        "print(\"--------------------------------------------------------\")\n",
        "\n",
        "cv_results_test = cross_validate(tree_clf, X_test, y_test, cv = skf, scoring = scoring)\n",
        "\n",
        "print(\"Cross-validation results in Test:\")\n",
        "for metric in scoring:\n",
        "    print(f\"{metric.capitalize()}: {cv_results_test[f'test_{metric}'].round(3)}\")\n",
        "    print(f\"Promedio de {metric.capitalize()}:  {cv_results_test[f'test_{metric}'].mean().round(3)}\")\n",
        "    print('\\n')\n"
      ]
    },
    {
      "cell_type": "markdown",
      "metadata": {
        "id": "jkMTvKPvyhDH"
      },
      "source": [
        "Basado en pagina 288 de Introduction to Machine Learning with Python"
      ]
    },
    {
      "cell_type": "code",
      "execution_count": 12,
      "metadata": {
        "id": "n9FYRC2SyhDH"
      },
      "outputs": [],
      "source": [
        "alturas = [3, 5, None]\n",
        "criterios = [\"gini\", \"entropy\"]\n",
        "\n",
        "resultados = {}\n",
        "\n",
        "for altura in alturas:\n",
        "    for criterio in criterios:\n",
        "\n",
        "        tree = DecisionTreeClassifier(max_depth = altura, criterion = criterio, random_state = 51)\n",
        "\n",
        "        tree.fit(X_train, y_train)\n",
        "\n",
        "        cv_results_train = cross_validate(tree, X_train, y_train, cv = skf, scoring = 'accuracy')\n",
        "\n",
        "        y_pred_test = tree.predict(X_test)\n",
        "\n",
        "        accuracy_test = accuracy_score(y_test, y_pred_test)\n",
        "\n",
        "        global_score_test= cv_results_train['test_score'].mean()\n",
        "\n",
        "        resultados[(altura, criterio)] = (global_score_test,accuracy_test)\n",
        "\n",
        "results_df = pd.DataFrame(resultados.values(), index=resultados.keys(), columns=['Train Score', 'Test Score'])\n",
        "\n"
      ]
    },
    {
      "cell_type": "code",
      "execution_count": 13,
      "metadata": {
        "colab": {
          "base_uri": "https://localhost:8080/",
          "height": 238
        },
        "id": "GgFmFZe5yhDH",
        "outputId": "9ab8ae94-37c9-4829-acb5-e2c7c3ebd7b0"
      },
      "outputs": [
        {
          "output_type": "execute_result",
          "data": {
            "text/plain": [
              "             Train Score  Test Score\n",
              "3   gini        0.646875      0.6625\n",
              "    entropy     0.640625      0.7250\n",
              "5   gini        0.646875      0.6750\n",
              "    entropy     0.621875      0.7125\n",
              "NaN gini        0.631250      0.5625\n",
              "    entropy     0.606250      0.6625"
            ],
            "text/html": [
              "\n",
              "  <div id=\"df-9a7311d5-f156-4bf8-89f2-3f75e60f4696\" class=\"colab-df-container\">\n",
              "    <div>\n",
              "<style scoped>\n",
              "    .dataframe tbody tr th:only-of-type {\n",
              "        vertical-align: middle;\n",
              "    }\n",
              "\n",
              "    .dataframe tbody tr th {\n",
              "        vertical-align: top;\n",
              "    }\n",
              "\n",
              "    .dataframe thead th {\n",
              "        text-align: right;\n",
              "    }\n",
              "</style>\n",
              "<table border=\"1\" class=\"dataframe\">\n",
              "  <thead>\n",
              "    <tr style=\"text-align: right;\">\n",
              "      <th></th>\n",
              "      <th></th>\n",
              "      <th>Train Score</th>\n",
              "      <th>Test Score</th>\n",
              "    </tr>\n",
              "  </thead>\n",
              "  <tbody>\n",
              "    <tr>\n",
              "      <th rowspan=\"2\" valign=\"top\">3</th>\n",
              "      <th>gini</th>\n",
              "      <td>0.646875</td>\n",
              "      <td>0.6625</td>\n",
              "    </tr>\n",
              "    <tr>\n",
              "      <th>entropy</th>\n",
              "      <td>0.640625</td>\n",
              "      <td>0.7250</td>\n",
              "    </tr>\n",
              "    <tr>\n",
              "      <th rowspan=\"2\" valign=\"top\">5</th>\n",
              "      <th>gini</th>\n",
              "      <td>0.646875</td>\n",
              "      <td>0.6750</td>\n",
              "    </tr>\n",
              "    <tr>\n",
              "      <th>entropy</th>\n",
              "      <td>0.621875</td>\n",
              "      <td>0.7125</td>\n",
              "    </tr>\n",
              "    <tr>\n",
              "      <th rowspan=\"2\" valign=\"top\">NaN</th>\n",
              "      <th>gini</th>\n",
              "      <td>0.631250</td>\n",
              "      <td>0.5625</td>\n",
              "    </tr>\n",
              "    <tr>\n",
              "      <th>entropy</th>\n",
              "      <td>0.606250</td>\n",
              "      <td>0.6625</td>\n",
              "    </tr>\n",
              "  </tbody>\n",
              "</table>\n",
              "</div>\n",
              "    <div class=\"colab-df-buttons\">\n",
              "\n",
              "  <div class=\"colab-df-container\">\n",
              "    <button class=\"colab-df-convert\" onclick=\"convertToInteractive('df-9a7311d5-f156-4bf8-89f2-3f75e60f4696')\"\n",
              "            title=\"Convert this dataframe to an interactive table.\"\n",
              "            style=\"display:none;\">\n",
              "\n",
              "  <svg xmlns=\"http://www.w3.org/2000/svg\" height=\"24px\" viewBox=\"0 -960 960 960\">\n",
              "    <path d=\"M120-120v-720h720v720H120Zm60-500h600v-160H180v160Zm220 220h160v-160H400v160Zm0 220h160v-160H400v160ZM180-400h160v-160H180v160Zm440 0h160v-160H620v160ZM180-180h160v-160H180v160Zm440 0h160v-160H620v160Z\"/>\n",
              "  </svg>\n",
              "    </button>\n",
              "\n",
              "  <style>\n",
              "    .colab-df-container {\n",
              "      display:flex;\n",
              "      gap: 12px;\n",
              "    }\n",
              "\n",
              "    .colab-df-convert {\n",
              "      background-color: #E8F0FE;\n",
              "      border: none;\n",
              "      border-radius: 50%;\n",
              "      cursor: pointer;\n",
              "      display: none;\n",
              "      fill: #1967D2;\n",
              "      height: 32px;\n",
              "      padding: 0 0 0 0;\n",
              "      width: 32px;\n",
              "    }\n",
              "\n",
              "    .colab-df-convert:hover {\n",
              "      background-color: #E2EBFA;\n",
              "      box-shadow: 0px 1px 2px rgba(60, 64, 67, 0.3), 0px 1px 3px 1px rgba(60, 64, 67, 0.15);\n",
              "      fill: #174EA6;\n",
              "    }\n",
              "\n",
              "    .colab-df-buttons div {\n",
              "      margin-bottom: 4px;\n",
              "    }\n",
              "\n",
              "    [theme=dark] .colab-df-convert {\n",
              "      background-color: #3B4455;\n",
              "      fill: #D2E3FC;\n",
              "    }\n",
              "\n",
              "    [theme=dark] .colab-df-convert:hover {\n",
              "      background-color: #434B5C;\n",
              "      box-shadow: 0px 1px 3px 1px rgba(0, 0, 0, 0.15);\n",
              "      filter: drop-shadow(0px 1px 2px rgba(0, 0, 0, 0.3));\n",
              "      fill: #FFFFFF;\n",
              "    }\n",
              "  </style>\n",
              "\n",
              "    <script>\n",
              "      const buttonEl =\n",
              "        document.querySelector('#df-9a7311d5-f156-4bf8-89f2-3f75e60f4696 button.colab-df-convert');\n",
              "      buttonEl.style.display =\n",
              "        google.colab.kernel.accessAllowed ? 'block' : 'none';\n",
              "\n",
              "      async function convertToInteractive(key) {\n",
              "        const element = document.querySelector('#df-9a7311d5-f156-4bf8-89f2-3f75e60f4696');\n",
              "        const dataTable =\n",
              "          await google.colab.kernel.invokeFunction('convertToInteractive',\n",
              "                                                    [key], {});\n",
              "        if (!dataTable) return;\n",
              "\n",
              "        const docLinkHtml = 'Like what you see? Visit the ' +\n",
              "          '<a target=\"_blank\" href=https://colab.research.google.com/notebooks/data_table.ipynb>data table notebook</a>'\n",
              "          + ' to learn more about interactive tables.';\n",
              "        element.innerHTML = '';\n",
              "        dataTable['output_type'] = 'display_data';\n",
              "        await google.colab.output.renderOutput(dataTable, element);\n",
              "        const docLink = document.createElement('div');\n",
              "        docLink.innerHTML = docLinkHtml;\n",
              "        element.appendChild(docLink);\n",
              "      }\n",
              "    </script>\n",
              "  </div>\n",
              "\n",
              "\n",
              "<div id=\"df-ab2b88ea-a1bd-480d-be8b-be54704b6d75\">\n",
              "  <button class=\"colab-df-quickchart\" onclick=\"quickchart('df-ab2b88ea-a1bd-480d-be8b-be54704b6d75')\"\n",
              "            title=\"Suggest charts\"\n",
              "            style=\"display:none;\">\n",
              "\n",
              "<svg xmlns=\"http://www.w3.org/2000/svg\" height=\"24px\"viewBox=\"0 0 24 24\"\n",
              "     width=\"24px\">\n",
              "    <g>\n",
              "        <path d=\"M19 3H5c-1.1 0-2 .9-2 2v14c0 1.1.9 2 2 2h14c1.1 0 2-.9 2-2V5c0-1.1-.9-2-2-2zM9 17H7v-7h2v7zm4 0h-2V7h2v10zm4 0h-2v-4h2v4z\"/>\n",
              "    </g>\n",
              "</svg>\n",
              "  </button>\n",
              "\n",
              "<style>\n",
              "  .colab-df-quickchart {\n",
              "      --bg-color: #E8F0FE;\n",
              "      --fill-color: #1967D2;\n",
              "      --hover-bg-color: #E2EBFA;\n",
              "      --hover-fill-color: #174EA6;\n",
              "      --disabled-fill-color: #AAA;\n",
              "      --disabled-bg-color: #DDD;\n",
              "  }\n",
              "\n",
              "  [theme=dark] .colab-df-quickchart {\n",
              "      --bg-color: #3B4455;\n",
              "      --fill-color: #D2E3FC;\n",
              "      --hover-bg-color: #434B5C;\n",
              "      --hover-fill-color: #FFFFFF;\n",
              "      --disabled-bg-color: #3B4455;\n",
              "      --disabled-fill-color: #666;\n",
              "  }\n",
              "\n",
              "  .colab-df-quickchart {\n",
              "    background-color: var(--bg-color);\n",
              "    border: none;\n",
              "    border-radius: 50%;\n",
              "    cursor: pointer;\n",
              "    display: none;\n",
              "    fill: var(--fill-color);\n",
              "    height: 32px;\n",
              "    padding: 0;\n",
              "    width: 32px;\n",
              "  }\n",
              "\n",
              "  .colab-df-quickchart:hover {\n",
              "    background-color: var(--hover-bg-color);\n",
              "    box-shadow: 0 1px 2px rgba(60, 64, 67, 0.3), 0 1px 3px 1px rgba(60, 64, 67, 0.15);\n",
              "    fill: var(--button-hover-fill-color);\n",
              "  }\n",
              "\n",
              "  .colab-df-quickchart-complete:disabled,\n",
              "  .colab-df-quickchart-complete:disabled:hover {\n",
              "    background-color: var(--disabled-bg-color);\n",
              "    fill: var(--disabled-fill-color);\n",
              "    box-shadow: none;\n",
              "  }\n",
              "\n",
              "  .colab-df-spinner {\n",
              "    border: 2px solid var(--fill-color);\n",
              "    border-color: transparent;\n",
              "    border-bottom-color: var(--fill-color);\n",
              "    animation:\n",
              "      spin 1s steps(1) infinite;\n",
              "  }\n",
              "\n",
              "  @keyframes spin {\n",
              "    0% {\n",
              "      border-color: transparent;\n",
              "      border-bottom-color: var(--fill-color);\n",
              "      border-left-color: var(--fill-color);\n",
              "    }\n",
              "    20% {\n",
              "      border-color: transparent;\n",
              "      border-left-color: var(--fill-color);\n",
              "      border-top-color: var(--fill-color);\n",
              "    }\n",
              "    30% {\n",
              "      border-color: transparent;\n",
              "      border-left-color: var(--fill-color);\n",
              "      border-top-color: var(--fill-color);\n",
              "      border-right-color: var(--fill-color);\n",
              "    }\n",
              "    40% {\n",
              "      border-color: transparent;\n",
              "      border-right-color: var(--fill-color);\n",
              "      border-top-color: var(--fill-color);\n",
              "    }\n",
              "    60% {\n",
              "      border-color: transparent;\n",
              "      border-right-color: var(--fill-color);\n",
              "    }\n",
              "    80% {\n",
              "      border-color: transparent;\n",
              "      border-right-color: var(--fill-color);\n",
              "      border-bottom-color: var(--fill-color);\n",
              "    }\n",
              "    90% {\n",
              "      border-color: transparent;\n",
              "      border-bottom-color: var(--fill-color);\n",
              "    }\n",
              "  }\n",
              "</style>\n",
              "\n",
              "  <script>\n",
              "    async function quickchart(key) {\n",
              "      const quickchartButtonEl =\n",
              "        document.querySelector('#' + key + ' button');\n",
              "      quickchartButtonEl.disabled = true;  // To prevent multiple clicks.\n",
              "      quickchartButtonEl.classList.add('colab-df-spinner');\n",
              "      try {\n",
              "        const charts = await google.colab.kernel.invokeFunction(\n",
              "            'suggestCharts', [key], {});\n",
              "      } catch (error) {\n",
              "        console.error('Error during call to suggestCharts:', error);\n",
              "      }\n",
              "      quickchartButtonEl.classList.remove('colab-df-spinner');\n",
              "      quickchartButtonEl.classList.add('colab-df-quickchart-complete');\n",
              "    }\n",
              "    (() => {\n",
              "      let quickchartButtonEl =\n",
              "        document.querySelector('#df-ab2b88ea-a1bd-480d-be8b-be54704b6d75 button');\n",
              "      quickchartButtonEl.style.display =\n",
              "        google.colab.kernel.accessAllowed ? 'block' : 'none';\n",
              "    })();\n",
              "  </script>\n",
              "</div>\n",
              "\n",
              "  <div id=\"id_ae4c7643-9cc3-4943-863a-43a9fa8e47d4\">\n",
              "    <style>\n",
              "      .colab-df-generate {\n",
              "        background-color: #E8F0FE;\n",
              "        border: none;\n",
              "        border-radius: 50%;\n",
              "        cursor: pointer;\n",
              "        display: none;\n",
              "        fill: #1967D2;\n",
              "        height: 32px;\n",
              "        padding: 0 0 0 0;\n",
              "        width: 32px;\n",
              "      }\n",
              "\n",
              "      .colab-df-generate:hover {\n",
              "        background-color: #E2EBFA;\n",
              "        box-shadow: 0px 1px 2px rgba(60, 64, 67, 0.3), 0px 1px 3px 1px rgba(60, 64, 67, 0.15);\n",
              "        fill: #174EA6;\n",
              "      }\n",
              "\n",
              "      [theme=dark] .colab-df-generate {\n",
              "        background-color: #3B4455;\n",
              "        fill: #D2E3FC;\n",
              "      }\n",
              "\n",
              "      [theme=dark] .colab-df-generate:hover {\n",
              "        background-color: #434B5C;\n",
              "        box-shadow: 0px 1px 3px 1px rgba(0, 0, 0, 0.15);\n",
              "        filter: drop-shadow(0px 1px 2px rgba(0, 0, 0, 0.3));\n",
              "        fill: #FFFFFF;\n",
              "      }\n",
              "    </style>\n",
              "    <button class=\"colab-df-generate\" onclick=\"generateWithVariable('results_df')\"\n",
              "            title=\"Generate code using this dataframe.\"\n",
              "            style=\"display:none;\">\n",
              "\n",
              "  <svg xmlns=\"http://www.w3.org/2000/svg\" height=\"24px\"viewBox=\"0 0 24 24\"\n",
              "       width=\"24px\">\n",
              "    <path d=\"M7,19H8.4L18.45,9,17,7.55,7,17.6ZM5,21V16.75L18.45,3.32a2,2,0,0,1,2.83,0l1.4,1.43a1.91,1.91,0,0,1,.58,1.4,1.91,1.91,0,0,1-.58,1.4L9.25,21ZM18.45,9,17,7.55Zm-12,3A5.31,5.31,0,0,0,4.9,8.1,5.31,5.31,0,0,0,1,6.5,5.31,5.31,0,0,0,4.9,4.9,5.31,5.31,0,0,0,6.5,1,5.31,5.31,0,0,0,8.1,4.9,5.31,5.31,0,0,0,12,6.5,5.46,5.46,0,0,0,6.5,12Z\"/>\n",
              "  </svg>\n",
              "    </button>\n",
              "    <script>\n",
              "      (() => {\n",
              "      const buttonEl =\n",
              "        document.querySelector('#id_ae4c7643-9cc3-4943-863a-43a9fa8e47d4 button.colab-df-generate');\n",
              "      buttonEl.style.display =\n",
              "        google.colab.kernel.accessAllowed ? 'block' : 'none';\n",
              "\n",
              "      buttonEl.onclick = () => {\n",
              "        google.colab.notebook.generateWithVariable('results_df');\n",
              "      }\n",
              "      })();\n",
              "    </script>\n",
              "  </div>\n",
              "\n",
              "    </div>\n",
              "  </div>\n"
            ],
            "application/vnd.google.colaboratory.intrinsic+json": {
              "type": "dataframe",
              "variable_name": "results_df",
              "summary": "{\n  \"name\": \"results_df\",\n  \"rows\": 6,\n  \"fields\": [\n    {\n      \"column\": \"Train Score\",\n      \"properties\": {\n        \"dtype\": \"number\",\n        \"std\": 0.016015942578152153,\n        \"min\": 0.60625,\n        \"max\": 0.646875,\n        \"num_unique_values\": 5,\n        \"samples\": [\n          0.640625,\n          0.60625,\n          0.621875\n        ],\n        \"semantic_type\": \"\",\n        \"description\": \"\"\n      }\n    },\n    {\n      \"column\": \"Test Score\",\n      \"properties\": {\n        \"dtype\": \"number\",\n        \"std\": 0.05737304826019502,\n        \"min\": 0.5625,\n        \"max\": 0.725,\n        \"num_unique_values\": 5,\n        \"samples\": [\n          0.725,\n          0.5625,\n          0.675\n        ],\n        \"semantic_type\": \"\",\n        \"description\": \"\"\n      }\n    }\n  ]\n}"
            }
          },
          "metadata": {},
          "execution_count": 13
        }
      ],
      "source": [
        "results_df"
      ]
    },
    {
      "cell_type": "markdown",
      "metadata": {
        "id": "SN2-lsi8yhDJ"
      },
      "source": [
        "# Ejercicio 3"
      ]
    },
    {
      "cell_type": "code",
      "execution_count": 159,
      "metadata": {
        "colab": {
          "base_uri": "https://localhost:8080/"
        },
        "id": "R7S2SFIhyhDJ",
        "outputId": "e2f9ef9f-6d5e-49bf-b76a-c22c419ef272"
      },
      "outputs": [
        {
          "output_type": "stream",
          "name": "stdout",
          "text": [
            "Best Model: DecisionTreeClassifier(max_depth=11, max_features=10, max_leaf_nodes=212,\n",
            "                       min_samples_leaf=5, min_samples_split=10,\n",
            "                       random_state=42)\n",
            "Best AUCROC Score: 0.64186033927313\n"
          ]
        }
      ],
      "source": [
        "from sklearn.model_selection import RandomizedSearchCV\n",
        "from sklearn.tree import DecisionTreeClassifier\n",
        "import scipy\n",
        "\n",
        "\n",
        "# Hay que ver en la documentarcion del modelo cada parametro y tirar una distribucion con los valores mas probables\n",
        "# Si pones una lista la toma como uniforme discreta\n",
        "\n",
        "# Aca algunos me tiraban error asi que los comente\n",
        "param_dist = {\n",
        "    'criterion': ['gini', 'entropy', 'log_loss'],\n",
        "    'splitter': ['best', 'random'],\n",
        "    'max_depth': scipy.stats.randint(1,40), #puede ser float\n",
        "    'min_samples_split': scipy.stats.randint(2,20), #puede ser float\n",
        "    'min_samples_leaf': scipy.stats.randint(1,20),\n",
        "    #'min_weight_fraction_leaf':scipy.stats.uniform(0,1) ,\n",
        "    'max_features': scipy.stats.randint(1,20),\n",
        "    'random_state': [42],\n",
        "    'max_leaf_nodes': scipy.stats.randint(2,len(X_train)),\n",
        "    #'min_impurity_decrease': scipy.stats.uniform(0,0.1),\n",
        "    #'class_weight': {i: scipy.stats.uniform(0,1) for i in range(len(X_train[0]))},\n",
        "    #'ccp_alpha': scipy.stats.uniform(0,0.1),\n",
        "}\n",
        "\n",
        "\n",
        "tree = DecisionTreeClassifier()\n",
        "n_iter_search = 30    # Esto es la cantidad de configuraciones que pruebo\n",
        "random_search = RandomizedSearchCV(estimator=tree, param_distributions=param_dist, scoring='roc_auc', cv=5, n_iter=n_iter_search)\n",
        "random_search.fit(X_train, y_train)\n",
        "\n",
        "best_model = random_search.best_estimator_\n",
        "best_score = random_search.best_score_\n",
        "\n",
        "print(\"Best Model:\", best_model)\n",
        "print(\"Best AUCROC Score:\", best_score)"
      ]
    },
    {
      "cell_type": "code",
      "source": [
        "from sklearn.neighbors import KNeighborsClassifier\n",
        "\n",
        "param_dist = {\n",
        "    'n_neighbors': scipy.stats.randint(1, 30),\n",
        "    'weights': ['uniform', 'distance'],\n",
        "    'algorithm': ['auto', 'ball_tree', 'kd_tree', 'brute'],\n",
        "    'leaf_size': scipy.stats.randint(1, 50),\n",
        "    'p': scipy.stats.randint(1, 5),\n",
        "    'metric': ['euclidean', 'manhattan', 'chebyshev', 'minkowski'],\n",
        "    #'metric_params':,\n",
        "    #'n_jobs':,\n",
        "}\n",
        "\n",
        "knn = KNeighborsClassifier()\n",
        "n_iter_search = 30\n",
        "random_search = RandomizedSearchCV(estimator=knn, param_distributions=param_dist, scoring='roc_auc', cv=5, n_iter=n_iter_search)\n",
        "\n",
        "\n",
        "# random_search.fit(X_train_normalized, y_train)\n",
        "# Normalizo los datos para knn\n",
        "from sklearn import preprocessing\n",
        "X_train_normalized = preprocessing.normalize(X_train.T).T\n",
        "random_search.fit(X_train_normalized, y_train) # No se xq daba mejor sin normalizar\n",
        "\n",
        "best_model = random_search.best_estimator_\n",
        "best_score = random_search.best_score_\n",
        "\n",
        "print(\"Best Model:\", best_model)\n",
        "print(\"Best AUCROC Score:\", best_score)\n"
      ],
      "metadata": {
        "colab": {
          "base_uri": "https://localhost:8080/"
        },
        "id": "51lqGKdz_u29",
        "outputId": "b2a923e8-1761-43c6-a159-fd2f8877a3bd"
      },
      "execution_count": 160,
      "outputs": [
        {
          "output_type": "stream",
          "name": "stdout",
          "text": [
            "Best Model: KNeighborsClassifier(algorithm='ball_tree', leaf_size=32, metric='euclidean',\n",
            "                     n_neighbors=29, weights='distance')\n",
            "Best AUCROC Score: 0.7648983187355279\n"
          ]
        }
      ]
    },
    {
      "cell_type": "code",
      "source": [
        "from sklearn.svm import SVC\n",
        "\n",
        "param_dist = {\n",
        "    'C': scipy.stats.uniform(0, 10),\n",
        "    'kernel': ['linear', 'poly', 'rbf', 'sigmoid'],\n",
        "    'degree': scipy.stats.randint(1, 6),\n",
        "    'gamma': ['scale', 'auto' ], #scipy.stats.uniform(0, 1),\n",
        "    'coef0': scipy.stats.uniform(0, 1),\n",
        "    'shrinking': [True, False],\n",
        "    'probability': [True, False],\n",
        "    'tol': scipy.stats.uniform(0, 0.1),\n",
        "    'cache_size': scipy.stats.randint(1, 1000),\n",
        "    #'class_weight': [{0: x, 1: 1 - x} for x in np.linspace(0, 1, 10)],\n",
        "}\n",
        "\n",
        "svm = SVC()\n",
        "n_iter_search = 30\n",
        "random_search = RandomizedSearchCV(estimator=svm, param_distributions=param_dist, scoring='roc_auc', cv=5, n_iter=n_iter_search)\n",
        "random_search.fit(X_train, y_train)\n",
        "\n",
        "best_model = random_search.best_estimator_\n",
        "best_score = random_search.best_score_\n",
        "\n",
        "print(\"Best Model:\", best_model)\n",
        "print(\"Best AUCROC Score:\", best_score)"
      ],
      "metadata": {
        "colab": {
          "base_uri": "https://localhost:8080/"
        },
        "id": "toPqJXIMNxSq",
        "outputId": "d5cabcf5-4f4c-472b-c320-7a5cc0f1a2de"
      },
      "execution_count": 161,
      "outputs": [
        {
          "output_type": "stream",
          "name": "stdout",
          "text": [
            "Best Model: SVC(C=5.361187448621152, cache_size=431, coef0=0.35193063363603405, degree=1,\n",
            "    probability=True, tol=0.041054304536744385)\n",
            "Best AUCROC Score: 0.8531367663344407\n"
          ]
        }
      ]
    },
    {
      "cell_type": "code",
      "source": [
        "from sklearn.discriminant_analysis import LinearDiscriminantAnalysis\n",
        "\n",
        "# Aca casi todas me fallan, hay que mejorarlo\n",
        "\n",
        "param_dist = {\n",
        "    #'solver': ['svd','lsqr', 'eigen'],\n",
        "    #'shrinkage': ['auto',None], #scipy.stats.uniform(0, 1),\n",
        "    #'priors': [],\n",
        "    #'n_components': scipy.stats.randint(1, min(len(X_train[0,:]), len(X_train[0]-1))),\n",
        "    'tol': scipy.stats.uniform(0, 0.1)\n",
        "    #'covariance_estimator':\n",
        "}\n",
        "\n",
        "\n",
        "lda = LinearDiscriminantAnalysis()\n",
        "n_iter_search = 30\n",
        "random_search = RandomizedSearchCV(estimator=lda, param_distributions=param_dist, scoring='roc_auc', cv=5, n_iter=n_iter_search)\n",
        "random_search.fit(X_train, y_train)\n",
        "\n",
        "best_model = random_search.best_estimator_\n",
        "best_score = random_search.best_score_\n",
        "\n",
        "print(\"Best Model:\", best_model)\n",
        "print(\"Best AUCROC Score:\", best_score)"
      ],
      "metadata": {
        "colab": {
          "base_uri": "https://localhost:8080/"
        },
        "id": "c1MoGeTJ4ujP",
        "outputId": "400a2b5a-e4e8-4439-803b-230395a8dd4c"
      },
      "execution_count": 162,
      "outputs": [
        {
          "output_type": "stream",
          "name": "stdout",
          "text": [
            "Best Model: LinearDiscriminantAnalysis(tol=0.0893187235489917)\n",
            "Best AUCROC Score: 0.6321202053760194\n"
          ]
        }
      ]
    },
    {
      "cell_type": "code",
      "source": [
        "from sklearn.naive_bayes import GaussianNB\n",
        "\n",
        "param_dist = {\n",
        "    'var_smoothing': scipy.stats.uniform(0, 1),\n",
        "    'priors': [None, [0.5, 0.5]],\n",
        "}\n",
        "\n",
        "nb = GaussianNB()\n",
        "n_iter_search = 30\n",
        "random_search = RandomizedSearchCV(estimator=nb, param_distributions=param_dist, scoring='roc_auc', cv=5, n_iter=n_iter_search)\n",
        "random_search.fit(X_train, y_train)\n",
        "\n",
        "best_model = random_search.best_estimator_\n",
        "best_score = random_search.best_score_\n",
        "\n",
        "print(\"Best Model:\", best_model)\n",
        "print(\"Best AUCROC Score:\", best_score)"
      ],
      "metadata": {
        "colab": {
          "base_uri": "https://localhost:8080/"
        },
        "id": "YjNgDzCF00Wp",
        "outputId": "abda317d-1047-4732-bcaf-22f304578f05"
      },
      "execution_count": 163,
      "outputs": [
        {
          "output_type": "stream",
          "name": "stdout",
          "text": [
            "Best Model: GaussianNB(var_smoothing=0.04293554571958946)\n",
            "Best AUCROC Score: 0.8443310178193899\n"
          ]
        }
      ]
    },
    {
      "cell_type": "code",
      "source": [],
      "metadata": {
        "id": "U7W-RXG24HcI"
      },
      "execution_count": 163,
      "outputs": []
    }
  ],
  "metadata": {
    "kernelspec": {
      "display_name": "APRENDIZAJE_SUPERVISADO",
      "language": "python",
      "name": "python3"
    },
    "language_info": {
      "codemirror_mode": {
        "name": "ipython",
        "version": 3
      },
      "file_extension": ".py",
      "mimetype": "text/x-python",
      "name": "python",
      "nbconvert_exporter": "python",
      "pygments_lexer": "ipython3",
      "version": "3.12.2"
    },
    "colab": {
      "provenance": []
    }
  },
  "nbformat": 4,
  "nbformat_minor": 0
}